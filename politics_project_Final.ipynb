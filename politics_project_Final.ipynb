{
 "cells": [
  {
   "cell_type": "markdown",
   "metadata": {},
   "source": [
    "# Nairaland Politics project\n",
    "\n",
    "### Background of the project: \n",
    "Nairaland is a Discussion forum where people come and share their thoughts on different topics. <br>\n",
    "The site is divided into categories and sections to guide the users. \n",
    "\n",
    "### Scope of the project: \n",
    "This project shall focus on the first 300 pages of the politics section of nairaland.com \n",
    "\n",
    "### Project Questions:\n",
    "1 What is the topic with the highest number of views <br>\n",
    "2 What is the topic and original Poster of the topic with the highest number view <br>\n",
    "3 What is the topic and original Poster of the topic with the highest number of comments or updates <br>\n",
    "4 Which post was last updated and when in the 300 pages scraped or oldest in terms of update <br>\n",
    "5 Who are the most active users in the politics section of Nairaland and how many topics did they create  <br>\n",
    "6 Which month had the highest number of Headings <br>\n",
    "7 Any other question that can help us understand the data very accurately\n",
    "\n",
    "### Project Task:\n",
    "task 1 : Write a python script to scrape 300 pages from politics category of nairaland.com <br>\n",
    "task 2 : using necessary libraries clean and analyze the data <br>\n",
    "task 3 : present your result using suitable visualization\n",
    "\n",
    "### Skills demonstrated in the Project :\n",
    "1 Web scraping  <br>\n",
    "2 Regular expression usage <br>\n",
    "3 Writing to a file <br>\n",
    "4 Data manipulation <br>\n",
    "5 Data cleaning <br>\n",
    "6 Data visualization <br>\n",
    "7 Research <br>\n",
    "8 Documentation\n",
    "\n",
    "### Column name definitions for the project :\n",
    "1 Heading : The title of the thread <br> \n",
    "2 Poster : The person that created the thread <br> \n",
    "3 Updated : How many times contributions have been added to the thread <br> \n",
    "4 Viewed : How many people opened the thread to read the content without contribution <br> \n",
    "5 Time : The time and date the last contribution was made on the thread <br> \n",
    "6 Last_Updated : The lasted person to make contribution to the thread"
   ]
  },
  {
   "cell_type": "markdown",
   "metadata": {},
   "source": [
    "# PART 1 <br>\n",
    "\n",
    "### Sample scraping for testing"
   ]
  },
  {
   "cell_type": "code",
   "execution_count": 17,
   "metadata": {},
   "outputs": [
    {
     "name": "stdout",
     "output_type": "stream",
     "text": [
      "I am done\n"
     ]
    }
   ],
   "source": [
    "import requests\n",
    "from bs4 import BeautifulSoup\n",
    "import re\n",
    "import csv\n",
    "\n",
    "url = 'https://www.nairaland.com/politics/'\n",
    "with open('politics3.csv', 'w', newline='', encoding='utf-8') as f:\n",
    "    thewriter = csv.writer(f)\n",
    "    thewriter.writerow(['Heading', 'Poster', 'Updated', 'Viewed', 'Time', 'Last_Updated'])\n",
    "\n",
    "    for page in range(1, 4):\n",
    "\n",
    "        reqs = requests.get(url + str(page))\n",
    "        soup = BeautifulSoup(reqs.text, 'lxml')\n",
    "\n",
    "\n",
    "        for td in soup.find_all(\"td\", {'id': re.compile(r'^top')}):\n",
    "            heading = [a.text.strip() for a in td.find_all('a')][1]\n",
    "            poster =  td.select('span b')[0].text.strip()\n",
    "            updated =  td.select('span b')[1].text.strip()\n",
    "            viewed =  td.select('span b')[2].text.strip()\n",
    "            time =  td.select('span b')[3].text.strip()\n",
    "            try:\n",
    "                last_updated =  td.select('span b')[4].text.strip()\n",
    "   \n",
    "            except IndexError :\n",
    "                last_updated = ''\n",
    "            \n",
    "            thewriter.writerow([heading, poster, updated, viewed, time, last_updated])\n",
    "        \n",
    "print('I am done')"
   ]
  },
  {
   "cell_type": "markdown",
   "metadata": {},
   "source": [
    "### Main scraping for the project"
   ]
  },
  {
   "cell_type": "code",
   "execution_count": null,
   "metadata": {},
   "outputs": [],
   "source": [
    "import requests\n",
    "from bs4 import BeautifulSoup\n",
    "import re\n",
    "import csv\n",
    "\n",
    "url = 'https://www.nairaland.com/politics/'\n",
    "with open('politics300.csv', 'w', newline='', encoding='utf-8') as f:\n",
    "    thewriter = csv.writer(f)\n",
    "    thewriter.writerow(['Heading', 'Poster', 'Updated', 'Viewed', 'Time', 'Date_Last_Updated', 'Last_Updated_user'])\n",
    "\n",
    "    for page in range(0, 300):\n",
    "\n",
    "        reqs = requests.get(url + str(page))\n",
    "        soup = BeautifulSoup(reqs.text, 'lxml')\n",
    "\n",
    "\n",
    "        for td in soup.find_all(\"td\", {'id': re.compile(r'^top')}):\n",
    "            heading = [a.text.strip() for a in td.find_all('a')][1]\n",
    "            poster =  td.select('span b')[0].text.strip()\n",
    "            updated =  td.select('span b')[1].text.strip()\n",
    "            viewed =  td.select('span b')[2].text.strip()\n",
    "            time =  td.select('span b')[3].text.strip()\n",
    "            try:\n",
    "                date_last_updated =  td.select('span b')[4].text.strip()\n",
    "   \n",
    "            except IndexError :\n",
    "                date_last_updated = ''\n",
    "            try:\n",
    "                last_updated_user =  td.select('span b')[5].text.strip()\n",
    "   \n",
    "            except IndexError :\n",
    "                last_updated_user = ''\n",
    "            \n",
    "            thewriter.writerow([heading, poster, updated, viewed, time, date_last_updated, last_updated_user])\n",
    "            \n",
    "        "
   ]
  },
  {
   "cell_type": "markdown",
   "metadata": {},
   "source": [
    "# PART 2"
   ]
  },
  {
   "cell_type": "markdown",
   "metadata": {},
   "source": [
    "#### Minor  Column adjustment was performed on the dataset after scrapping due to internal workings and configuration of nairaland"
   ]
  },
  {
   "cell_type": "code",
   "execution_count": 2,
   "metadata": {},
   "outputs": [
    {
     "data": {
      "text/html": [
       "<div>\n",
       "<style scoped>\n",
       "    .dataframe tbody tr th:only-of-type {\n",
       "        vertical-align: middle;\n",
       "    }\n",
       "\n",
       "    .dataframe tbody tr th {\n",
       "        vertical-align: top;\n",
       "    }\n",
       "\n",
       "    .dataframe thead th {\n",
       "        text-align: right;\n",
       "    }\n",
       "</style>\n",
       "<table border=\"1\" class=\"dataframe\">\n",
       "  <thead>\n",
       "    <tr style=\"text-align: right;\">\n",
       "      <th></th>\n",
       "      <th>Heading</th>\n",
       "      <th>Poster</th>\n",
       "      <th>Updated</th>\n",
       "      <th>Viewed</th>\n",
       "      <th>Time</th>\n",
       "      <th>Date_Last_Updated</th>\n",
       "      <th>Last_Updated_user</th>\n",
       "    </tr>\n",
       "  </thead>\n",
       "  <tbody>\n",
       "    <tr>\n",
       "      <td>0</td>\n",
       "      <td>Nairaland Says No To Secessionists</td>\n",
       "      <td>Seun</td>\n",
       "      <td>4503</td>\n",
       "      <td>512130</td>\n",
       "      <td>3:14am</td>\n",
       "      <td>30-May</td>\n",
       "      <td>Cosmatikka</td>\n",
       "    </tr>\n",
       "    <tr>\n",
       "      <td>1</td>\n",
       "      <td>Wike: Nobody Obeyed IPOB Sit At Home Order In ...</td>\n",
       "      <td>nairavsdollars</td>\n",
       "      <td>11</td>\n",
       "      <td>106</td>\n",
       "      <td>6:50am</td>\n",
       "      <td>1-Jun</td>\n",
       "      <td>sapphiere</td>\n",
       "    </tr>\n",
       "    <tr>\n",
       "      <td>2</td>\n",
       "      <td>2023: Kingsley Moghalu Declares For President,...</td>\n",
       "      <td>powerfulguy</td>\n",
       "      <td>58</td>\n",
       "      <td>4175</td>\n",
       "      <td>6:50am</td>\n",
       "      <td>1-Jun</td>\n",
       "      <td>Martialb1</td>\n",
       "    </tr>\n",
       "    <tr>\n",
       "      <td>3</td>\n",
       "      <td>Meet A Northern Nigerian Man Who Wears Corpora...</td>\n",
       "      <td>Iambodemartins</td>\n",
       "      <td>10</td>\n",
       "      <td>183</td>\n",
       "      <td>6:50am</td>\n",
       "      <td>1-Jun</td>\n",
       "      <td>Coronabirus</td>\n",
       "    </tr>\n",
       "    <tr>\n",
       "      <td>4</td>\n",
       "      <td>Buhari Charges Security Agencies To Rescue Abd...</td>\n",
       "      <td>Insidenaija</td>\n",
       "      <td>42</td>\n",
       "      <td>1592</td>\n",
       "      <td>6:50am</td>\n",
       "      <td>1-Jun</td>\n",
       "      <td>Hollawayn05</td>\n",
       "    </tr>\n",
       "  </tbody>\n",
       "</table>\n",
       "</div>"
      ],
      "text/plain": [
       "                                             Heading          Poster  Updated  \\\n",
       "0                 Nairaland Says No To Secessionists            Seun     4503   \n",
       "1  Wike: Nobody Obeyed IPOB Sit At Home Order In ...  nairavsdollars       11   \n",
       "2  2023: Kingsley Moghalu Declares For President,...     powerfulguy       58   \n",
       "3  Meet A Northern Nigerian Man Who Wears Corpora...  Iambodemartins       10   \n",
       "4  Buhari Charges Security Agencies To Rescue Abd...     Insidenaija       42   \n",
       "\n",
       "   Viewed    Time Date_Last_Updated Last_Updated_user  \n",
       "0  512130  3:14am            30-May        Cosmatikka  \n",
       "1     106  6:50am             1-Jun         sapphiere  \n",
       "2    4175  6:50am             1-Jun         Martialb1  \n",
       "3     183  6:50am             1-Jun       Coronabirus  \n",
       "4    1592  6:50am             1-Jun       Hollawayn05  "
      ]
     },
     "execution_count": 2,
     "metadata": {},
     "output_type": "execute_result"
    }
   ],
   "source": [
    "# Importing the necessary libraries for project and brining in the dataset\n",
    "import pandas as pd\n",
    "import numpy as np\n",
    "import matplotlib.pyplot as plt\n",
    "%matplotlib inline\n",
    "politics = pd.read_csv('politics300_edited.csv')\n",
    "politics.head()"
   ]
  },
  {
   "cell_type": "code",
   "execution_count": 3,
   "metadata": {},
   "outputs": [],
   "source": [
    "# Display full lenght of column content\n",
    "pd.set_option('display.max_colwidth', -1)"
   ]
  },
  {
   "cell_type": "code",
   "execution_count": 4,
   "metadata": {},
   "outputs": [
    {
     "data": {
      "text/html": [
       "<div>\n",
       "<style scoped>\n",
       "    .dataframe tbody tr th:only-of-type {\n",
       "        vertical-align: middle;\n",
       "    }\n",
       "\n",
       "    .dataframe tbody tr th {\n",
       "        vertical-align: top;\n",
       "    }\n",
       "\n",
       "    .dataframe thead th {\n",
       "        text-align: right;\n",
       "    }\n",
       "</style>\n",
       "<table border=\"1\" class=\"dataframe\">\n",
       "  <thead>\n",
       "    <tr style=\"text-align: right;\">\n",
       "      <th></th>\n",
       "      <th>Heading</th>\n",
       "      <th>Poster</th>\n",
       "      <th>Updated</th>\n",
       "      <th>Viewed</th>\n",
       "      <th>Time</th>\n",
       "      <th>Date_Last_Updated</th>\n",
       "      <th>Last_Updated_user</th>\n",
       "    </tr>\n",
       "  </thead>\n",
       "  <tbody>\n",
       "    <tr>\n",
       "      <td>0</td>\n",
       "      <td>Nairaland Says No To Secessionists</td>\n",
       "      <td>Seun</td>\n",
       "      <td>4503</td>\n",
       "      <td>512130</td>\n",
       "      <td>3:14am</td>\n",
       "      <td>30-May</td>\n",
       "      <td>Cosmatikka</td>\n",
       "    </tr>\n",
       "    <tr>\n",
       "      <td>1</td>\n",
       "      <td>Wike: Nobody Obeyed IPOB Sit At Home Order In Rivers</td>\n",
       "      <td>nairavsdollars</td>\n",
       "      <td>11</td>\n",
       "      <td>106</td>\n",
       "      <td>6:50am</td>\n",
       "      <td>1-Jun</td>\n",
       "      <td>sapphiere</td>\n",
       "    </tr>\n",
       "    <tr>\n",
       "      <td>2</td>\n",
       "      <td>2023: Kingsley Moghalu Declares For President, Unveils SWAG Agenda</td>\n",
       "      <td>powerfulguy</td>\n",
       "      <td>58</td>\n",
       "      <td>4175</td>\n",
       "      <td>6:50am</td>\n",
       "      <td>1-Jun</td>\n",
       "      <td>Martialb1</td>\n",
       "    </tr>\n",
       "    <tr>\n",
       "      <td>3</td>\n",
       "      <td>Meet A Northern Nigerian Man Who Wears Corporate To Sell Kola Nut In Abuja.</td>\n",
       "      <td>Iambodemartins</td>\n",
       "      <td>10</td>\n",
       "      <td>183</td>\n",
       "      <td>6:50am</td>\n",
       "      <td>1-Jun</td>\n",
       "      <td>Coronabirus</td>\n",
       "    </tr>\n",
       "    <tr>\n",
       "      <td>4</td>\n",
       "      <td>Buhari Charges Security Agencies To Rescue Abducted Niger State Schoolchildren</td>\n",
       "      <td>Insidenaija</td>\n",
       "      <td>42</td>\n",
       "      <td>1592</td>\n",
       "      <td>6:50am</td>\n",
       "      <td>1-Jun</td>\n",
       "      <td>Hollawayn05</td>\n",
       "    </tr>\n",
       "  </tbody>\n",
       "</table>\n",
       "</div>"
      ],
      "text/plain": [
       "                                                                          Heading  \\\n",
       "0  Nairaland Says No To Secessionists                                               \n",
       "1  Wike: Nobody Obeyed IPOB Sit At Home Order In Rivers                             \n",
       "2  2023: Kingsley Moghalu Declares For President, Unveils SWAG Agenda               \n",
       "3  Meet A Northern Nigerian Man Who Wears Corporate To Sell Kola Nut In Abuja.      \n",
       "4  Buhari Charges Security Agencies To Rescue Abducted Niger State Schoolchildren   \n",
       "\n",
       "           Poster  Updated  Viewed    Time Date_Last_Updated Last_Updated_user  \n",
       "0  Seun            4503     512130  3:14am  30-May            Cosmatikka        \n",
       "1  nairavsdollars  11       106     6:50am  1-Jun             sapphiere         \n",
       "2  powerfulguy     58       4175    6:50am  1-Jun             Martialb1         \n",
       "3  Iambodemartins  10       183     6:50am  1-Jun             Coronabirus       \n",
       "4  Insidenaija     42       1592    6:50am  1-Jun             Hollawayn05       "
      ]
     },
     "execution_count": 4,
     "metadata": {},
     "output_type": "execute_result"
    }
   ],
   "source": [
    "#checking  the first five rows of the data \n",
    "politics.head()"
   ]
  },
  {
   "cell_type": "code",
   "execution_count": 5,
   "metadata": {},
   "outputs": [
    {
     "data": {
      "text/html": [
       "<div>\n",
       "<style scoped>\n",
       "    .dataframe tbody tr th:only-of-type {\n",
       "        vertical-align: middle;\n",
       "    }\n",
       "\n",
       "    .dataframe tbody tr th {\n",
       "        vertical-align: top;\n",
       "    }\n",
       "\n",
       "    .dataframe thead th {\n",
       "        text-align: right;\n",
       "    }\n",
       "</style>\n",
       "<table border=\"1\" class=\"dataframe\">\n",
       "  <thead>\n",
       "    <tr style=\"text-align: right;\">\n",
       "      <th></th>\n",
       "      <th>Heading</th>\n",
       "      <th>Poster</th>\n",
       "      <th>Updated</th>\n",
       "      <th>Viewed</th>\n",
       "      <th>Time</th>\n",
       "      <th>Date_Last_Updated</th>\n",
       "      <th>Last_Updated_user</th>\n",
       "    </tr>\n",
       "  </thead>\n",
       "  <tbody>\n",
       "    <tr>\n",
       "      <td>16094</td>\n",
       "      <td>Fulani Now Have Online Psychological Warriors</td>\n",
       "      <td>ezenwajosh</td>\n",
       "      <td>41</td>\n",
       "      <td>702</td>\n",
       "      <td>3:03pm</td>\n",
       "      <td>9-Mar</td>\n",
       "      <td>chiedozie198100</td>\n",
       "    </tr>\n",
       "    <tr>\n",
       "      <td>16095</td>\n",
       "      <td>Umahi Plots To Accuse Me Of Sponsoring ESN, PDP Vice Chair Raises Alarm</td>\n",
       "      <td>BleedingPen</td>\n",
       "      <td>2</td>\n",
       "      <td>142</td>\n",
       "      <td>3:02pm</td>\n",
       "      <td>9-Mar</td>\n",
       "      <td>AlexBells</td>\n",
       "    </tr>\n",
       "    <tr>\n",
       "      <td>16096</td>\n",
       "      <td>Governor Dapo Abiodun, Deputy Takes COVID-19 Vaccine</td>\n",
       "      <td>References1</td>\n",
       "      <td>36</td>\n",
       "      <td>5101</td>\n",
       "      <td>2:29pm</td>\n",
       "      <td>9-Mar</td>\n",
       "      <td>pentax</td>\n",
       "    </tr>\n",
       "    <tr>\n",
       "      <td>16097</td>\n",
       "      <td>Wike Criticizes APC Membership Registration, Revalidation Exercise</td>\n",
       "      <td>gistsmill04</td>\n",
       "      <td>53</td>\n",
       "      <td>13142</td>\n",
       "      <td>2:22pm</td>\n",
       "      <td>9-Mar</td>\n",
       "      <td>VictorUSA</td>\n",
       "    </tr>\n",
       "    <tr>\n",
       "      <td>16098</td>\n",
       "      <td>Tenure Extension: I Can Remain In Office Untill 2023 Or 2024 — IGP Adamu</td>\n",
       "      <td>theBLOODofJESUS</td>\n",
       "      <td>70</td>\n",
       "      <td>21856</td>\n",
       "      <td>2:18pm</td>\n",
       "      <td>9-Mar</td>\n",
       "      <td>profbray</td>\n",
       "    </tr>\n",
       "    <tr>\n",
       "      <td>16099</td>\n",
       "      <td>Drama As PANPIEC Clash With CCAD Over Sen. Abaribe &amp; Kalu, Prince Erondu Reacts</td>\n",
       "      <td>Saintbossman</td>\n",
       "      <td>3</td>\n",
       "      <td>129</td>\n",
       "      <td>2:13pm</td>\n",
       "      <td>9-Mar</td>\n",
       "      <td>TotoGame</td>\n",
       "    </tr>\n",
       "    <tr>\n",
       "      <td>16100</td>\n",
       "      <td>INEC: 2023 General Election Must Be Better Than Previous Ones</td>\n",
       "      <td>BluntCrazeMan</td>\n",
       "      <td>62</td>\n",
       "      <td>3282</td>\n",
       "      <td>2:05pm</td>\n",
       "      <td>9-Mar</td>\n",
       "      <td>Gobdddd</td>\n",
       "    </tr>\n",
       "    <tr>\n",
       "      <td>16101</td>\n",
       "      <td>Ohanaeze Ndigbo Must Key Into Our Secession Agenda – MASSOB</td>\n",
       "      <td>gidgiddy</td>\n",
       "      <td>9</td>\n",
       "      <td>142</td>\n",
       "      <td>2:05pm</td>\n",
       "      <td>9-Mar</td>\n",
       "      <td>AdakaBoro8</td>\n",
       "    </tr>\n",
       "    <tr>\n",
       "      <td>16102</td>\n",
       "      <td>Osinbajo's Friends, Associates Announce Empowerment Programme In His Honor</td>\n",
       "      <td>madamgrace</td>\n",
       "      <td>49</td>\n",
       "      <td>9880</td>\n",
       "      <td>1:39pm</td>\n",
       "      <td>9-Mar</td>\n",
       "      <td>klimkid</td>\n",
       "    </tr>\n",
       "    <tr>\n",
       "      <td>16103</td>\n",
       "      <td>Buhari Congratulates Prof. Ibeh On Commonwealth Education Appointment</td>\n",
       "      <td>Redcrafton</td>\n",
       "      <td>10</td>\n",
       "      <td>269</td>\n",
       "      <td>1:37pm</td>\n",
       "      <td>9-Mar</td>\n",
       "      <td>TotoGame</td>\n",
       "    </tr>\n",
       "  </tbody>\n",
       "</table>\n",
       "</div>"
      ],
      "text/plain": [
       "                                                                               Heading  \\\n",
       "16094  Fulani Now Have Online Psychological Warriors                                     \n",
       "16095  Umahi Plots To Accuse Me Of Sponsoring ESN, PDP Vice Chair Raises Alarm           \n",
       "16096  Governor Dapo Abiodun, Deputy Takes COVID-19 Vaccine                              \n",
       "16097  Wike Criticizes APC Membership Registration, Revalidation Exercise                \n",
       "16098  Tenure Extension: I Can Remain In Office Untill 2023 Or 2024 — IGP Adamu          \n",
       "16099  Drama As PANPIEC Clash With CCAD Over Sen. Abaribe & Kalu, Prince Erondu Reacts   \n",
       "16100  INEC: 2023 General Election Must Be Better Than Previous Ones                     \n",
       "16101  Ohanaeze Ndigbo Must Key Into Our Secession Agenda – MASSOB                       \n",
       "16102  Osinbajo's Friends, Associates Announce Empowerment Programme In His Honor        \n",
       "16103  Buhari Congratulates Prof. Ibeh On Commonwealth Education Appointment             \n",
       "\n",
       "                Poster  Updated Viewed    Time Date_Last_Updated  \\\n",
       "16094  ezenwajosh       41       702    3:03pm  9-Mar              \n",
       "16095  BleedingPen      2        142    3:02pm  9-Mar              \n",
       "16096  References1      36       5101   2:29pm  9-Mar              \n",
       "16097  gistsmill04      53       13142  2:22pm  9-Mar              \n",
       "16098  theBLOODofJESUS  70       21856  2:18pm  9-Mar              \n",
       "16099  Saintbossman     3        129    2:13pm  9-Mar              \n",
       "16100  BluntCrazeMan    62       3282   2:05pm  9-Mar              \n",
       "16101  gidgiddy         9        142    2:05pm  9-Mar              \n",
       "16102  madamgrace       49       9880   1:39pm  9-Mar              \n",
       "16103  Redcrafton       10       269    1:37pm  9-Mar              \n",
       "\n",
       "      Last_Updated_user  \n",
       "16094  chiedozie198100   \n",
       "16095  AlexBells         \n",
       "16096  pentax            \n",
       "16097  VictorUSA         \n",
       "16098  profbray          \n",
       "16099  TotoGame          \n",
       "16100  Gobdddd           \n",
       "16101  AdakaBoro8        \n",
       "16102  klimkid           \n",
       "16103  TotoGame          "
      ]
     },
     "execution_count": 5,
     "metadata": {},
     "output_type": "execute_result"
    }
   ],
   "source": [
    "#looking at the last 10 records in our dataset \n",
    "politics.tail(10)"
   ]
  },
  {
   "cell_type": "code",
   "execution_count": 6,
   "metadata": {},
   "outputs": [
    {
     "name": "stdout",
     "output_type": "stream",
     "text": [
      "<class 'pandas.core.frame.DataFrame'>\n",
      "RangeIndex: 16104 entries, 0 to 16103\n",
      "Data columns (total 7 columns):\n",
      "Heading              16101 non-null object\n",
      "Poster               15941 non-null object\n",
      "Updated              16104 non-null int64\n",
      "Viewed               16104 non-null object\n",
      "Time                 16104 non-null object\n",
      "Date_Last_Updated    16103 non-null object\n",
      "Last_Updated_user    15946 non-null object\n",
      "dtypes: int64(1), object(6)\n",
      "memory usage: 880.8+ KB\n"
     ]
    }
   ],
   "source": [
    "# summary information about our data\n",
    "politics.info()"
   ]
  },
  {
   "cell_type": "code",
   "execution_count": 7,
   "metadata": {},
   "outputs": [
    {
     "data": {
      "text/plain": [
       "Heading              15841\n",
       "Poster               3472 \n",
       "Updated              432  \n",
       "Viewed               5769 \n",
       "Time                 1430 \n",
       "Date_Last_Updated    87   \n",
       "Last_Updated_user    5457 \n",
       "dtype: int64"
      ]
     },
     "execution_count": 7,
     "metadata": {},
     "output_type": "execute_result"
    }
   ],
   "source": [
    "# checking for unique entries for each column\n",
    "politics.nunique()"
   ]
  },
  {
   "cell_type": "code",
   "execution_count": null,
   "metadata": {},
   "outputs": [],
   "source": []
  },
  {
   "cell_type": "code",
   "execution_count": 8,
   "metadata": {},
   "outputs": [
    {
     "data": {
      "text/plain": [
       "Heading              3  \n",
       "Poster               163\n",
       "Updated              0  \n",
       "Viewed               0  \n",
       "Time                 0  \n",
       "Date_Last_Updated    1  \n",
       "Last_Updated_user    158\n",
       "dtype: int64"
      ]
     },
     "execution_count": 8,
     "metadata": {},
     "output_type": "execute_result"
    }
   ],
   "source": [
    "# Calculating columns with missing data\n",
    "politics.isnull().sum()"
   ]
  },
  {
   "cell_type": "code",
   "execution_count": 9,
   "metadata": {},
   "outputs": [
    {
     "data": {
      "text/plain": [
       "(16104, 7)"
      ]
     },
     "execution_count": 9,
     "metadata": {},
     "output_type": "execute_result"
    }
   ],
   "source": [
    "#confirming the number of rows and columns in our dataset\n",
    "politics.shape"
   ]
  },
  {
   "cell_type": "code",
   "execution_count": 10,
   "metadata": {},
   "outputs": [
    {
     "data": {
      "text/plain": [
       "Index(['Heading', 'Poster', 'Updated', 'Viewed', 'Time', 'Date_Last_Updated',\n",
       "       'Last_Updated_user'],\n",
       "      dtype='object')"
      ]
     },
     "execution_count": 10,
     "metadata": {},
     "output_type": "execute_result"
    }
   ],
   "source": [
    "# checking the name of our columns\n",
    "politics.columns"
   ]
  },
  {
   "cell_type": "markdown",
   "metadata": {},
   "source": [
    "#### Note: Error was left on purpose for illustration"
   ]
  },
  {
   "cell_type": "code",
   "execution_count": 11,
   "metadata": {},
   "outputs": [
    {
     "ename": "ValueError",
     "evalue": "Unable to parse string \"4:27pm\" at position 4671",
     "output_type": "error",
     "traceback": [
      "\u001b[1;31m---------------------------------------------------------------------------\u001b[0m",
      "\u001b[1;31mValueError\u001b[0m                                Traceback (most recent call last)",
      "\u001b[1;32mpandas\\_libs\\lib.pyx\u001b[0m in \u001b[0;36mpandas._libs.lib.maybe_convert_numeric\u001b[1;34m()\u001b[0m\n",
      "\u001b[1;31mValueError\u001b[0m: Unable to parse string \"4:27pm\"",
      "\nDuring handling of the above exception, another exception occurred:\n",
      "\u001b[1;31mValueError\u001b[0m                                Traceback (most recent call last)",
      "\u001b[1;32m<ipython-input-11-b8ede712f56f>\u001b[0m in \u001b[0;36m<module>\u001b[1;34m\u001b[0m\n\u001b[0;32m      1\u001b[0m \u001b[1;31m# Converting Viewed column to numeric, the error message shows that some records are not appropriate for the column\u001b[0m\u001b[1;33m\u001b[0m\u001b[1;33m\u001b[0m\u001b[1;33m\u001b[0m\u001b[0m\n\u001b[0;32m      2\u001b[0m \u001b[1;31m# This error message was left here deliberately\u001b[0m\u001b[1;33m\u001b[0m\u001b[1;33m\u001b[0m\u001b[1;33m\u001b[0m\u001b[0m\n\u001b[1;32m----> 3\u001b[1;33m \u001b[0mpolitics\u001b[0m\u001b[1;33m[\u001b[0m\u001b[1;34m'Viewed'\u001b[0m\u001b[1;33m]\u001b[0m \u001b[1;33m=\u001b[0m \u001b[0mpd\u001b[0m\u001b[1;33m.\u001b[0m\u001b[0mto_numeric\u001b[0m\u001b[1;33m(\u001b[0m\u001b[0mpolitics\u001b[0m\u001b[1;33m[\u001b[0m\u001b[1;34m'Viewed'\u001b[0m\u001b[1;33m]\u001b[0m\u001b[1;33m)\u001b[0m\u001b[1;33m\u001b[0m\u001b[1;33m\u001b[0m\u001b[0m\n\u001b[0m",
      "\u001b[1;32m~\\Anaconda3\\lib\\site-packages\\pandas\\core\\tools\\numeric.py\u001b[0m in \u001b[0;36mto_numeric\u001b[1;34m(arg, errors, downcast)\u001b[0m\n\u001b[0;32m    149\u001b[0m             \u001b[0mcoerce_numeric\u001b[0m \u001b[1;33m=\u001b[0m \u001b[0merrors\u001b[0m \u001b[1;32mnot\u001b[0m \u001b[1;32min\u001b[0m \u001b[1;33m(\u001b[0m\u001b[1;34m\"ignore\"\u001b[0m\u001b[1;33m,\u001b[0m \u001b[1;34m\"raise\"\u001b[0m\u001b[1;33m)\u001b[0m\u001b[1;33m\u001b[0m\u001b[1;33m\u001b[0m\u001b[0m\n\u001b[0;32m    150\u001b[0m             values = lib.maybe_convert_numeric(\n\u001b[1;32m--> 151\u001b[1;33m                 \u001b[0mvalues\u001b[0m\u001b[1;33m,\u001b[0m \u001b[0mset\u001b[0m\u001b[1;33m(\u001b[0m\u001b[1;33m)\u001b[0m\u001b[1;33m,\u001b[0m \u001b[0mcoerce_numeric\u001b[0m\u001b[1;33m=\u001b[0m\u001b[0mcoerce_numeric\u001b[0m\u001b[1;33m\u001b[0m\u001b[1;33m\u001b[0m\u001b[0m\n\u001b[0m\u001b[0;32m    152\u001b[0m             )\n\u001b[0;32m    153\u001b[0m \u001b[1;33m\u001b[0m\u001b[0m\n",
      "\u001b[1;32mpandas\\_libs\\lib.pyx\u001b[0m in \u001b[0;36mpandas._libs.lib.maybe_convert_numeric\u001b[1;34m()\u001b[0m\n",
      "\u001b[1;31mValueError\u001b[0m: Unable to parse string \"4:27pm\" at position 4671"
     ]
    }
   ],
   "source": [
    "# Converting Viewed column to numeric, the error message shows that some records are not appropriate for the column\n",
    "# This error message was left here deliberately\n",
    "politics['Viewed'] = pd.to_numeric(politics['Viewed'])"
   ]
  },
  {
   "cell_type": "code",
   "execution_count": 12,
   "metadata": {},
   "outputs": [
    {
     "data": {
      "text/plain": [
       "3"
      ]
     },
     "execution_count": 12,
     "metadata": {},
     "output_type": "execute_result"
    }
   ],
   "source": [
    "#checking the Viewed Column to identify wrong entries (it contains time instead of numbers)\n",
    "viewed_err = politics['Viewed'].str.contains('am|pm')\n",
    "viewed_err.sum()"
   ]
  },
  {
   "cell_type": "code",
   "execution_count": 13,
   "metadata": {},
   "outputs": [
    {
     "data": {
      "text/plain": [
       "pandas.core.series.Series"
      ]
     },
     "execution_count": 13,
     "metadata": {},
     "output_type": "execute_result"
    }
   ],
   "source": [
    "# checking for datatype\n",
    "type(viewed_err)\n"
   ]
  },
  {
   "cell_type": "code",
   "execution_count": 14,
   "metadata": {},
   "outputs": [
    {
     "data": {
      "text/plain": [
       "[4671, 4675, 6350]"
      ]
     },
     "execution_count": 14,
     "metadata": {},
     "output_type": "execute_result"
    }
   ],
   "source": [
    "# identifying the index location of the 3 records with wrong entries for Viewed column\n",
    "[i for i in viewed_err.index if viewed_err[i]]"
   ]
  },
  {
   "cell_type": "code",
   "execution_count": 15,
   "metadata": {},
   "outputs": [],
   "source": [
    "#Dropping the 3 rows that was causing problem for Viewed Column\n",
    "politics_1 = politics.drop([4671, 4675, 6350])"
   ]
  },
  {
   "cell_type": "code",
   "execution_count": 16,
   "metadata": {},
   "outputs": [],
   "source": [
    "# Viewed Column successfully converted to numeric\n",
    "politics_1['Viewed'] = pd.to_numeric(politics_1['Viewed'])"
   ]
  },
  {
   "cell_type": "code",
   "execution_count": 17,
   "metadata": {},
   "outputs": [
    {
     "name": "stdout",
     "output_type": "stream",
     "text": [
      "<class 'pandas.core.frame.DataFrame'>\n",
      "Int64Index: 16101 entries, 0 to 16103\n",
      "Data columns (total 7 columns):\n",
      "Heading              16098 non-null object\n",
      "Poster               15938 non-null object\n",
      "Updated              16101 non-null int64\n",
      "Viewed               16101 non-null int64\n",
      "Time                 16101 non-null object\n",
      "Date_Last_Updated    16101 non-null object\n",
      "Last_Updated_user    15946 non-null object\n",
      "dtypes: int64(2), object(5)\n",
      "memory usage: 1006.3+ KB\n"
     ]
    }
   ],
   "source": [
    "# Verifying our conversion\n",
    "politics_1.info()"
   ]
  },
  {
   "cell_type": "code",
   "execution_count": 18,
   "metadata": {},
   "outputs": [],
   "source": [
    "# Adding year to our Date column\n",
    "politics_1['Date_Last_Updated'] = politics_1['Date_Last_Updated'] + '-2021'"
   ]
  },
  {
   "cell_type": "code",
   "execution_count": 19,
   "metadata": {},
   "outputs": [
    {
     "data": {
      "text/html": [
       "<div>\n",
       "<style scoped>\n",
       "    .dataframe tbody tr th:only-of-type {\n",
       "        vertical-align: middle;\n",
       "    }\n",
       "\n",
       "    .dataframe tbody tr th {\n",
       "        vertical-align: top;\n",
       "    }\n",
       "\n",
       "    .dataframe thead th {\n",
       "        text-align: right;\n",
       "    }\n",
       "</style>\n",
       "<table border=\"1\" class=\"dataframe\">\n",
       "  <thead>\n",
       "    <tr style=\"text-align: right;\">\n",
       "      <th></th>\n",
       "      <th>Heading</th>\n",
       "      <th>Poster</th>\n",
       "      <th>Updated</th>\n",
       "      <th>Viewed</th>\n",
       "      <th>Time</th>\n",
       "      <th>Date_Last_Updated</th>\n",
       "      <th>Last_Updated_user</th>\n",
       "    </tr>\n",
       "  </thead>\n",
       "  <tbody>\n",
       "    <tr>\n",
       "      <td>0</td>\n",
       "      <td>Nairaland Says No To Secessionists</td>\n",
       "      <td>Seun</td>\n",
       "      <td>4503</td>\n",
       "      <td>512130</td>\n",
       "      <td>3:14am</td>\n",
       "      <td>30-May-2021</td>\n",
       "      <td>Cosmatikka</td>\n",
       "    </tr>\n",
       "    <tr>\n",
       "      <td>1</td>\n",
       "      <td>Wike: Nobody Obeyed IPOB Sit At Home Order In Rivers</td>\n",
       "      <td>nairavsdollars</td>\n",
       "      <td>11</td>\n",
       "      <td>106</td>\n",
       "      <td>6:50am</td>\n",
       "      <td>1-Jun-2021</td>\n",
       "      <td>sapphiere</td>\n",
       "    </tr>\n",
       "    <tr>\n",
       "      <td>2</td>\n",
       "      <td>2023: Kingsley Moghalu Declares For President, Unveils SWAG Agenda</td>\n",
       "      <td>powerfulguy</td>\n",
       "      <td>58</td>\n",
       "      <td>4175</td>\n",
       "      <td>6:50am</td>\n",
       "      <td>1-Jun-2021</td>\n",
       "      <td>Martialb1</td>\n",
       "    </tr>\n",
       "    <tr>\n",
       "      <td>3</td>\n",
       "      <td>Meet A Northern Nigerian Man Who Wears Corporate To Sell Kola Nut In Abuja.</td>\n",
       "      <td>Iambodemartins</td>\n",
       "      <td>10</td>\n",
       "      <td>183</td>\n",
       "      <td>6:50am</td>\n",
       "      <td>1-Jun-2021</td>\n",
       "      <td>Coronabirus</td>\n",
       "    </tr>\n",
       "    <tr>\n",
       "      <td>4</td>\n",
       "      <td>Buhari Charges Security Agencies To Rescue Abducted Niger State Schoolchildren</td>\n",
       "      <td>Insidenaija</td>\n",
       "      <td>42</td>\n",
       "      <td>1592</td>\n",
       "      <td>6:50am</td>\n",
       "      <td>1-Jun-2021</td>\n",
       "      <td>Hollawayn05</td>\n",
       "    </tr>\n",
       "  </tbody>\n",
       "</table>\n",
       "</div>"
      ],
      "text/plain": [
       "                                                                          Heading  \\\n",
       "0  Nairaland Says No To Secessionists                                               \n",
       "1  Wike: Nobody Obeyed IPOB Sit At Home Order In Rivers                             \n",
       "2  2023: Kingsley Moghalu Declares For President, Unveils SWAG Agenda               \n",
       "3  Meet A Northern Nigerian Man Who Wears Corporate To Sell Kola Nut In Abuja.      \n",
       "4  Buhari Charges Security Agencies To Rescue Abducted Niger State Schoolchildren   \n",
       "\n",
       "           Poster  Updated  Viewed    Time Date_Last_Updated Last_Updated_user  \n",
       "0  Seun            4503     512130  3:14am  30-May-2021       Cosmatikka        \n",
       "1  nairavsdollars  11       106     6:50am  1-Jun-2021        sapphiere         \n",
       "2  powerfulguy     58       4175    6:50am  1-Jun-2021        Martialb1         \n",
       "3  Iambodemartins  10       183     6:50am  1-Jun-2021        Coronabirus       \n",
       "4  Insidenaija     42       1592    6:50am  1-Jun-2021        Hollawayn05       "
      ]
     },
     "execution_count": 19,
     "metadata": {},
     "output_type": "execute_result"
    }
   ],
   "source": [
    "politics_1.head()"
   ]
  },
  {
   "cell_type": "code",
   "execution_count": 20,
   "metadata": {},
   "outputs": [],
   "source": [
    "# Converting our Date_Last_Updated to  datetime64 datatype \n",
    "politics_1['Date_Last_Updated'] = politics_1['Date_Last_Updated'].astype('datetime64')"
   ]
  },
  {
   "cell_type": "code",
   "execution_count": 21,
   "metadata": {},
   "outputs": [
    {
     "name": "stdout",
     "output_type": "stream",
     "text": [
      "<class 'pandas.core.frame.DataFrame'>\n",
      "Int64Index: 16101 entries, 0 to 16103\n",
      "Data columns (total 7 columns):\n",
      "Heading              16098 non-null object\n",
      "Poster               15938 non-null object\n",
      "Updated              16101 non-null int64\n",
      "Viewed               16101 non-null int64\n",
      "Time                 16101 non-null object\n",
      "Date_Last_Updated    16101 non-null datetime64[ns]\n",
      "Last_Updated_user    15946 non-null object\n",
      "dtypes: datetime64[ns](1), int64(2), object(4)\n",
      "memory usage: 1006.3+ KB\n"
     ]
    }
   ],
   "source": [
    "politics_1.info()"
   ]
  },
  {
   "cell_type": "code",
   "execution_count": 22,
   "metadata": {},
   "outputs": [],
   "source": [
    "# Breaking our Date_Last_Updated into Day, Month and year\n",
    "politics_1['Day'] = politics_1['Date_Last_Updated'].dt.day \n",
    "politics_1['Month'] = politics_1['Date_Last_Updated'].dt.month\n",
    "politics_1['Year'] = politics_1['Date_Last_Updated'].dt.year"
   ]
  },
  {
   "cell_type": "code",
   "execution_count": 23,
   "metadata": {},
   "outputs": [
    {
     "data": {
      "text/html": [
       "<div>\n",
       "<style scoped>\n",
       "    .dataframe tbody tr th:only-of-type {\n",
       "        vertical-align: middle;\n",
       "    }\n",
       "\n",
       "    .dataframe tbody tr th {\n",
       "        vertical-align: top;\n",
       "    }\n",
       "\n",
       "    .dataframe thead th {\n",
       "        text-align: right;\n",
       "    }\n",
       "</style>\n",
       "<table border=\"1\" class=\"dataframe\">\n",
       "  <thead>\n",
       "    <tr style=\"text-align: right;\">\n",
       "      <th></th>\n",
       "      <th>Heading</th>\n",
       "      <th>Poster</th>\n",
       "      <th>Updated</th>\n",
       "      <th>Viewed</th>\n",
       "      <th>Time</th>\n",
       "      <th>Date_Last_Updated</th>\n",
       "      <th>Last_Updated_user</th>\n",
       "      <th>Day</th>\n",
       "      <th>Month</th>\n",
       "      <th>Year</th>\n",
       "    </tr>\n",
       "  </thead>\n",
       "  <tbody>\n",
       "    <tr>\n",
       "      <td>0</td>\n",
       "      <td>Nairaland Says No To Secessionists</td>\n",
       "      <td>Seun</td>\n",
       "      <td>4503</td>\n",
       "      <td>512130</td>\n",
       "      <td>3:14am</td>\n",
       "      <td>2021-05-30</td>\n",
       "      <td>Cosmatikka</td>\n",
       "      <td>30</td>\n",
       "      <td>5</td>\n",
       "      <td>2021</td>\n",
       "    </tr>\n",
       "    <tr>\n",
       "      <td>1</td>\n",
       "      <td>Wike: Nobody Obeyed IPOB Sit At Home Order In Rivers</td>\n",
       "      <td>nairavsdollars</td>\n",
       "      <td>11</td>\n",
       "      <td>106</td>\n",
       "      <td>6:50am</td>\n",
       "      <td>2021-06-01</td>\n",
       "      <td>sapphiere</td>\n",
       "      <td>1</td>\n",
       "      <td>6</td>\n",
       "      <td>2021</td>\n",
       "    </tr>\n",
       "    <tr>\n",
       "      <td>2</td>\n",
       "      <td>2023: Kingsley Moghalu Declares For President, Unveils SWAG Agenda</td>\n",
       "      <td>powerfulguy</td>\n",
       "      <td>58</td>\n",
       "      <td>4175</td>\n",
       "      <td>6:50am</td>\n",
       "      <td>2021-06-01</td>\n",
       "      <td>Martialb1</td>\n",
       "      <td>1</td>\n",
       "      <td>6</td>\n",
       "      <td>2021</td>\n",
       "    </tr>\n",
       "    <tr>\n",
       "      <td>3</td>\n",
       "      <td>Meet A Northern Nigerian Man Who Wears Corporate To Sell Kola Nut In Abuja.</td>\n",
       "      <td>Iambodemartins</td>\n",
       "      <td>10</td>\n",
       "      <td>183</td>\n",
       "      <td>6:50am</td>\n",
       "      <td>2021-06-01</td>\n",
       "      <td>Coronabirus</td>\n",
       "      <td>1</td>\n",
       "      <td>6</td>\n",
       "      <td>2021</td>\n",
       "    </tr>\n",
       "    <tr>\n",
       "      <td>4</td>\n",
       "      <td>Buhari Charges Security Agencies To Rescue Abducted Niger State Schoolchildren</td>\n",
       "      <td>Insidenaija</td>\n",
       "      <td>42</td>\n",
       "      <td>1592</td>\n",
       "      <td>6:50am</td>\n",
       "      <td>2021-06-01</td>\n",
       "      <td>Hollawayn05</td>\n",
       "      <td>1</td>\n",
       "      <td>6</td>\n",
       "      <td>2021</td>\n",
       "    </tr>\n",
       "  </tbody>\n",
       "</table>\n",
       "</div>"
      ],
      "text/plain": [
       "                                                                          Heading  \\\n",
       "0  Nairaland Says No To Secessionists                                               \n",
       "1  Wike: Nobody Obeyed IPOB Sit At Home Order In Rivers                             \n",
       "2  2023: Kingsley Moghalu Declares For President, Unveils SWAG Agenda               \n",
       "3  Meet A Northern Nigerian Man Who Wears Corporate To Sell Kola Nut In Abuja.      \n",
       "4  Buhari Charges Security Agencies To Rescue Abducted Niger State Schoolchildren   \n",
       "\n",
       "           Poster  Updated  Viewed    Time Date_Last_Updated  \\\n",
       "0  Seun            4503     512130  3:14am 2021-05-30          \n",
       "1  nairavsdollars  11       106     6:50am 2021-06-01          \n",
       "2  powerfulguy     58       4175    6:50am 2021-06-01          \n",
       "3  Iambodemartins  10       183     6:50am 2021-06-01          \n",
       "4  Insidenaija     42       1592    6:50am 2021-06-01          \n",
       "\n",
       "  Last_Updated_user  Day  Month  Year  \n",
       "0  Cosmatikka        30   5      2021  \n",
       "1  sapphiere         1    6      2021  \n",
       "2  Martialb1         1    6      2021  \n",
       "3  Coronabirus       1    6      2021  \n",
       "4  Hollawayn05       1    6      2021  "
      ]
     },
     "execution_count": 23,
     "metadata": {},
     "output_type": "execute_result"
    }
   ],
   "source": [
    "politics_1.head()"
   ]
  },
  {
   "cell_type": "code",
   "execution_count": 24,
   "metadata": {},
   "outputs": [
    {
     "data": {
      "text/html": [
       "<div>\n",
       "<style scoped>\n",
       "    .dataframe tbody tr th:only-of-type {\n",
       "        vertical-align: middle;\n",
       "    }\n",
       "\n",
       "    .dataframe tbody tr th {\n",
       "        vertical-align: top;\n",
       "    }\n",
       "\n",
       "    .dataframe thead th {\n",
       "        text-align: right;\n",
       "    }\n",
       "</style>\n",
       "<table border=\"1\" class=\"dataframe\">\n",
       "  <thead>\n",
       "    <tr style=\"text-align: right;\">\n",
       "      <th></th>\n",
       "      <th>Heading</th>\n",
       "      <th>Poster</th>\n",
       "      <th>Updated</th>\n",
       "      <th>Viewed</th>\n",
       "      <th>Time</th>\n",
       "      <th>Date_Last_Updated</th>\n",
       "      <th>Last_Updated_user</th>\n",
       "      <th>Day</th>\n",
       "      <th>Month</th>\n",
       "      <th>Year</th>\n",
       "    </tr>\n",
       "  </thead>\n",
       "  <tbody>\n",
       "    <tr>\n",
       "      <td>16099</td>\n",
       "      <td>Drama As PANPIEC Clash With CCAD Over Sen. Abaribe &amp; Kalu, Prince Erondu Reacts</td>\n",
       "      <td>Saintbossman</td>\n",
       "      <td>3</td>\n",
       "      <td>129</td>\n",
       "      <td>2:13pm</td>\n",
       "      <td>2021-03-09</td>\n",
       "      <td>TotoGame</td>\n",
       "      <td>9</td>\n",
       "      <td>3</td>\n",
       "      <td>2021</td>\n",
       "    </tr>\n",
       "    <tr>\n",
       "      <td>16100</td>\n",
       "      <td>INEC: 2023 General Election Must Be Better Than Previous Ones</td>\n",
       "      <td>BluntCrazeMan</td>\n",
       "      <td>62</td>\n",
       "      <td>3282</td>\n",
       "      <td>2:05pm</td>\n",
       "      <td>2021-03-09</td>\n",
       "      <td>Gobdddd</td>\n",
       "      <td>9</td>\n",
       "      <td>3</td>\n",
       "      <td>2021</td>\n",
       "    </tr>\n",
       "    <tr>\n",
       "      <td>16101</td>\n",
       "      <td>Ohanaeze Ndigbo Must Key Into Our Secession Agenda – MASSOB</td>\n",
       "      <td>gidgiddy</td>\n",
       "      <td>9</td>\n",
       "      <td>142</td>\n",
       "      <td>2:05pm</td>\n",
       "      <td>2021-03-09</td>\n",
       "      <td>AdakaBoro8</td>\n",
       "      <td>9</td>\n",
       "      <td>3</td>\n",
       "      <td>2021</td>\n",
       "    </tr>\n",
       "    <tr>\n",
       "      <td>16102</td>\n",
       "      <td>Osinbajo's Friends, Associates Announce Empowerment Programme In His Honor</td>\n",
       "      <td>madamgrace</td>\n",
       "      <td>49</td>\n",
       "      <td>9880</td>\n",
       "      <td>1:39pm</td>\n",
       "      <td>2021-03-09</td>\n",
       "      <td>klimkid</td>\n",
       "      <td>9</td>\n",
       "      <td>3</td>\n",
       "      <td>2021</td>\n",
       "    </tr>\n",
       "    <tr>\n",
       "      <td>16103</td>\n",
       "      <td>Buhari Congratulates Prof. Ibeh On Commonwealth Education Appointment</td>\n",
       "      <td>Redcrafton</td>\n",
       "      <td>10</td>\n",
       "      <td>269</td>\n",
       "      <td>1:37pm</td>\n",
       "      <td>2021-03-09</td>\n",
       "      <td>TotoGame</td>\n",
       "      <td>9</td>\n",
       "      <td>3</td>\n",
       "      <td>2021</td>\n",
       "    </tr>\n",
       "  </tbody>\n",
       "</table>\n",
       "</div>"
      ],
      "text/plain": [
       "                                                                               Heading  \\\n",
       "16099  Drama As PANPIEC Clash With CCAD Over Sen. Abaribe & Kalu, Prince Erondu Reacts   \n",
       "16100  INEC: 2023 General Election Must Be Better Than Previous Ones                     \n",
       "16101  Ohanaeze Ndigbo Must Key Into Our Secession Agenda – MASSOB                       \n",
       "16102  Osinbajo's Friends, Associates Announce Empowerment Programme In His Honor        \n",
       "16103  Buhari Congratulates Prof. Ibeh On Commonwealth Education Appointment             \n",
       "\n",
       "              Poster  Updated  Viewed    Time Date_Last_Updated  \\\n",
       "16099  Saintbossman   3        129     2:13pm 2021-03-09          \n",
       "16100  BluntCrazeMan  62       3282    2:05pm 2021-03-09          \n",
       "16101  gidgiddy       9        142     2:05pm 2021-03-09          \n",
       "16102  madamgrace     49       9880    1:39pm 2021-03-09          \n",
       "16103  Redcrafton     10       269     1:37pm 2021-03-09          \n",
       "\n",
       "      Last_Updated_user  Day  Month  Year  \n",
       "16099  TotoGame          9    3      2021  \n",
       "16100  Gobdddd           9    3      2021  \n",
       "16101  AdakaBoro8        9    3      2021  \n",
       "16102  klimkid           9    3      2021  \n",
       "16103  TotoGame          9    3      2021  "
      ]
     },
     "execution_count": 24,
     "metadata": {},
     "output_type": "execute_result"
    }
   ],
   "source": [
    "politics_1.tail()"
   ]
  },
  {
   "cell_type": "code",
   "execution_count": 25,
   "metadata": {},
   "outputs": [
    {
     "data": {
      "text/html": [
       "<div>\n",
       "<style scoped>\n",
       "    .dataframe tbody tr th:only-of-type {\n",
       "        vertical-align: middle;\n",
       "    }\n",
       "\n",
       "    .dataframe tbody tr th {\n",
       "        vertical-align: top;\n",
       "    }\n",
       "\n",
       "    .dataframe thead th {\n",
       "        text-align: right;\n",
       "    }\n",
       "</style>\n",
       "<table border=\"1\" class=\"dataframe\">\n",
       "  <thead>\n",
       "    <tr style=\"text-align: right;\">\n",
       "      <th></th>\n",
       "      <th>Updated</th>\n",
       "      <th>Viewed</th>\n",
       "      <th>Day</th>\n",
       "      <th>Month</th>\n",
       "      <th>Year</th>\n",
       "    </tr>\n",
       "  </thead>\n",
       "  <tbody>\n",
       "    <tr>\n",
       "      <td>count</td>\n",
       "      <td>16101.000000</td>\n",
       "      <td>1.610100e+04</td>\n",
       "      <td>16101.000000</td>\n",
       "      <td>16101.000000</td>\n",
       "      <td>16101.0</td>\n",
       "    </tr>\n",
       "    <tr>\n",
       "      <td>mean</td>\n",
       "      <td>52.155146</td>\n",
       "      <td>6.759907e+03</td>\n",
       "      <td>17.620086</td>\n",
       "      <td>4.222595</td>\n",
       "      <td>2021.0</td>\n",
       "    </tr>\n",
       "    <tr>\n",
       "      <td>std</td>\n",
       "      <td>485.775057</td>\n",
       "      <td>3.962183e+04</td>\n",
       "      <td>8.786498</td>\n",
       "      <td>0.796351</td>\n",
       "      <td>0.0</td>\n",
       "    </tr>\n",
       "    <tr>\n",
       "      <td>min</td>\n",
       "      <td>1.000000</td>\n",
       "      <td>1.000000e+01</td>\n",
       "      <td>1.000000</td>\n",
       "      <td>3.000000</td>\n",
       "      <td>2021.0</td>\n",
       "    </tr>\n",
       "    <tr>\n",
       "      <td>25%</td>\n",
       "      <td>3.000000</td>\n",
       "      <td>1.290000e+02</td>\n",
       "      <td>11.000000</td>\n",
       "      <td>4.000000</td>\n",
       "      <td>2021.0</td>\n",
       "    </tr>\n",
       "    <tr>\n",
       "      <td>50%</td>\n",
       "      <td>11.000000</td>\n",
       "      <td>3.460000e+02</td>\n",
       "      <td>18.000000</td>\n",
       "      <td>4.000000</td>\n",
       "      <td>2021.0</td>\n",
       "    </tr>\n",
       "    <tr>\n",
       "      <td>75%</td>\n",
       "      <td>47.000000</td>\n",
       "      <td>2.791000e+03</td>\n",
       "      <td>25.000000</td>\n",
       "      <td>5.000000</td>\n",
       "      <td>2021.0</td>\n",
       "    </tr>\n",
       "    <tr>\n",
       "      <td>max</td>\n",
       "      <td>25002.000000</td>\n",
       "      <td>3.690093e+06</td>\n",
       "      <td>31.000000</td>\n",
       "      <td>6.000000</td>\n",
       "      <td>2021.0</td>\n",
       "    </tr>\n",
       "  </tbody>\n",
       "</table>\n",
       "</div>"
      ],
      "text/plain": [
       "            Updated        Viewed           Day         Month     Year\n",
       "count  16101.000000  1.610100e+04  16101.000000  16101.000000  16101.0\n",
       "mean   52.155146     6.759907e+03  17.620086     4.222595      2021.0 \n",
       "std    485.775057    3.962183e+04  8.786498      0.796351      0.0    \n",
       "min    1.000000      1.000000e+01  1.000000      3.000000      2021.0 \n",
       "25%    3.000000      1.290000e+02  11.000000     4.000000      2021.0 \n",
       "50%    11.000000     3.460000e+02  18.000000     4.000000      2021.0 \n",
       "75%    47.000000     2.791000e+03  25.000000     5.000000      2021.0 \n",
       "max    25002.000000  3.690093e+06  31.000000     6.000000      2021.0 "
      ]
     },
     "execution_count": 25,
     "metadata": {},
     "output_type": "execute_result"
    }
   ],
   "source": [
    "# Getting statistical idea of our data\n",
    "politics_1.describe()"
   ]
  },
  {
   "cell_type": "markdown",
   "metadata": {},
   "source": [
    "## Answers to our Questions and Additional insights on the dataset"
   ]
  },
  {
   "cell_type": "markdown",
   "metadata": {},
   "source": [
    "### 1 What is the topic with the highest number of views"
   ]
  },
  {
   "cell_type": "code",
   "execution_count": 26,
   "metadata": {},
   "outputs": [
    {
     "data": {
      "text/html": [
       "<div>\n",
       "<style scoped>\n",
       "    .dataframe tbody tr th:only-of-type {\n",
       "        vertical-align: middle;\n",
       "    }\n",
       "\n",
       "    .dataframe tbody tr th {\n",
       "        vertical-align: top;\n",
       "    }\n",
       "\n",
       "    .dataframe thead th {\n",
       "        text-align: right;\n",
       "    }\n",
       "</style>\n",
       "<table border=\"1\" class=\"dataframe\">\n",
       "  <thead>\n",
       "    <tr style=\"text-align: right;\">\n",
       "      <th></th>\n",
       "      <th>Heading</th>\n",
       "      <th>Viewed</th>\n",
       "    </tr>\n",
       "  </thead>\n",
       "  <tbody>\n",
       "    <tr>\n",
       "      <td>2226</td>\n",
       "      <td>Abubakar Shekau, Boko Haram Leader Speaks To BBC Hausa, Enjoys Killing People.</td>\n",
       "      <td>3690093</td>\n",
       "    </tr>\n",
       "    <tr>\n",
       "      <td>110</td>\n",
       "      <td>Few Pics From Imo State</td>\n",
       "      <td>1762975</td>\n",
       "    </tr>\n",
       "    <tr>\n",
       "      <td>5302</td>\n",
       "      <td>Enugu, The Pride Of The East.</td>\n",
       "      <td>1523966</td>\n",
       "    </tr>\n",
       "    <tr>\n",
       "      <td>7087</td>\n",
       "      <td>Anambra light of the nation, eastern economy power house.</td>\n",
       "      <td>1102234</td>\n",
       "    </tr>\n",
       "    <tr>\n",
       "      <td>48</td>\n",
       "      <td>Update on developments in Anambra state-photos</td>\n",
       "      <td>943420</td>\n",
       "    </tr>\n",
       "    <tr>\n",
       "      <td>7698</td>\n",
       "      <td>Yoruba Commonwealth and Politics</td>\n",
       "      <td>586487</td>\n",
       "    </tr>\n",
       "    <tr>\n",
       "      <td>0</td>\n",
       "      <td>Nairaland Says No To Secessionists</td>\n",
       "      <td>512130</td>\n",
       "    </tr>\n",
       "    <tr>\n",
       "      <td>861</td>\n",
       "      <td>Nairaland Says No To Secessionists</td>\n",
       "      <td>512130</td>\n",
       "    </tr>\n",
       "    <tr>\n",
       "      <td>1207</td>\n",
       "      <td>.</td>\n",
       "      <td>434501</td>\n",
       "    </tr>\n",
       "    <tr>\n",
       "      <td>561</td>\n",
       "      <td>Yorubas Are The Most Industrious,Richest &amp; Educated Tribe in Nigeria &amp; Africa</td>\n",
       "      <td>433438</td>\n",
       "    </tr>\n",
       "  </tbody>\n",
       "</table>\n",
       "</div>"
      ],
      "text/plain": [
       "                                                                             Heading  \\\n",
       "2226  Abubakar Shekau, Boko Haram Leader Speaks To BBC Hausa, Enjoys Killing People.   \n",
       "110   Few Pics From Imo State                                                          \n",
       "5302  Enugu, The Pride Of The East.                                                    \n",
       "7087  Anambra light of the nation, eastern economy power house.                        \n",
       "48    Update on developments in Anambra state-photos                                   \n",
       "7698  Yoruba Commonwealth and Politics                                                 \n",
       "0     Nairaland Says No To Secessionists                                               \n",
       "861   Nairaland Says No To Secessionists                                               \n",
       "1207  .                                                                                \n",
       "561   Yorubas Are The Most Industrious,Richest & Educated Tribe in Nigeria & Africa    \n",
       "\n",
       "       Viewed  \n",
       "2226  3690093  \n",
       "110   1762975  \n",
       "5302  1523966  \n",
       "7087  1102234  \n",
       "48    943420   \n",
       "7698  586487   \n",
       "0     512130   \n",
       "861   512130   \n",
       "1207  434501   \n",
       "561   433438   "
      ]
     },
     "execution_count": 26,
     "metadata": {},
     "output_type": "execute_result"
    }
   ],
   "source": [
    "# The top 10 Headings with the highest number of views\n",
    "highest_view = politics_1[['Heading', 'Viewed']].sort_values(by= 'Viewed', ascending=False)\n",
    "highest_view[:10]"
   ]
  },
  {
   "cell_type": "code",
   "execution_count": 27,
   "metadata": {},
   "outputs": [
    {
     "data": {
      "image/png": "[encoded data removed]",
      "text/plain": [
       "<Figure size 576x576 with 1 Axes>"
      ]
     },
     "metadata": {
      "needs_background": "light"
     },
     "output_type": "display_data"
    }
   ],
   "source": [
    "view1 = highest_view[:10].plot(x = 'Heading', y= 'Viewed', kind='barh', figsize = (8, 8))\n",
    "view1.invert_yaxis()"
   ]
  },
  {
   "cell_type": "markdown",
   "metadata": {},
   "source": [
    "### 2 What is the topic and original Poster of the topic with the highest number of view"
   ]
  },
  {
   "cell_type": "code",
   "execution_count": 28,
   "metadata": {},
   "outputs": [
    {
     "data": {
      "text/html": [
       "<div>\n",
       "<style scoped>\n",
       "    .dataframe tbody tr th:only-of-type {\n",
       "        vertical-align: middle;\n",
       "    }\n",
       "\n",
       "    .dataframe tbody tr th {\n",
       "        vertical-align: top;\n",
       "    }\n",
       "\n",
       "    .dataframe thead th {\n",
       "        text-align: right;\n",
       "    }\n",
       "</style>\n",
       "<table border=\"1\" class=\"dataframe\">\n",
       "  <thead>\n",
       "    <tr style=\"text-align: right;\">\n",
       "      <th></th>\n",
       "      <th>Heading</th>\n",
       "      <th>Poster</th>\n",
       "      <th>Viewed</th>\n",
       "    </tr>\n",
       "  </thead>\n",
       "  <tbody>\n",
       "    <tr>\n",
       "      <td>2226</td>\n",
       "      <td>Abubakar Shekau, Boko Haram Leader Speaks To BBC Hausa, Enjoys Killing People.</td>\n",
       "      <td>yimiton</td>\n",
       "      <td>3690093</td>\n",
       "    </tr>\n",
       "    <tr>\n",
       "      <td>110</td>\n",
       "      <td>Few Pics From Imo State</td>\n",
       "      <td>PROUDIGBO</td>\n",
       "      <td>1762975</td>\n",
       "    </tr>\n",
       "    <tr>\n",
       "      <td>5302</td>\n",
       "      <td>Enugu, The Pride Of The East.</td>\n",
       "      <td>spyder880</td>\n",
       "      <td>1523966</td>\n",
       "    </tr>\n",
       "    <tr>\n",
       "      <td>7087</td>\n",
       "      <td>Anambra light of the nation, eastern economy power house.</td>\n",
       "      <td>FKO81</td>\n",
       "      <td>1102234</td>\n",
       "    </tr>\n",
       "    <tr>\n",
       "      <td>48</td>\n",
       "      <td>Update on developments in Anambra state-photos</td>\n",
       "      <td>Anambra1stSon</td>\n",
       "      <td>943420</td>\n",
       "    </tr>\n",
       "    <tr>\n",
       "      <td>7698</td>\n",
       "      <td>Yoruba Commonwealth and Politics</td>\n",
       "      <td>NaN</td>\n",
       "      <td>586487</td>\n",
       "    </tr>\n",
       "    <tr>\n",
       "      <td>0</td>\n",
       "      <td>Nairaland Says No To Secessionists</td>\n",
       "      <td>Seun</td>\n",
       "      <td>512130</td>\n",
       "    </tr>\n",
       "    <tr>\n",
       "      <td>861</td>\n",
       "      <td>Nairaland Says No To Secessionists</td>\n",
       "      <td>Seun</td>\n",
       "      <td>512130</td>\n",
       "    </tr>\n",
       "    <tr>\n",
       "      <td>1207</td>\n",
       "      <td>.</td>\n",
       "      <td>spyder880</td>\n",
       "      <td>434501</td>\n",
       "    </tr>\n",
       "    <tr>\n",
       "      <td>561</td>\n",
       "      <td>Yorubas Are The Most Industrious,Richest &amp; Educated Tribe in Nigeria &amp; Africa</td>\n",
       "      <td>kn23h</td>\n",
       "      <td>433438</td>\n",
       "    </tr>\n",
       "  </tbody>\n",
       "</table>\n",
       "</div>"
      ],
      "text/plain": [
       "                                                                             Heading  \\\n",
       "2226  Abubakar Shekau, Boko Haram Leader Speaks To BBC Hausa, Enjoys Killing People.   \n",
       "110   Few Pics From Imo State                                                          \n",
       "5302  Enugu, The Pride Of The East.                                                    \n",
       "7087  Anambra light of the nation, eastern economy power house.                        \n",
       "48    Update on developments in Anambra state-photos                                   \n",
       "7698  Yoruba Commonwealth and Politics                                                 \n",
       "0     Nairaland Says No To Secessionists                                               \n",
       "861   Nairaland Says No To Secessionists                                               \n",
       "1207  .                                                                                \n",
       "561   Yorubas Are The Most Industrious,Richest & Educated Tribe in Nigeria & Africa    \n",
       "\n",
       "             Poster   Viewed  \n",
       "2226  yimiton        3690093  \n",
       "110   PROUDIGBO      1762975  \n",
       "5302  spyder880      1523966  \n",
       "7087  FKO81          1102234  \n",
       "48    Anambra1stSon  943420   \n",
       "7698  NaN            586487   \n",
       "0     Seun           512130   \n",
       "861   Seun           512130   \n",
       "1207  spyder880      434501   \n",
       "561   kn23h          433438   "
      ]
     },
     "execution_count": 28,
     "metadata": {},
     "output_type": "execute_result"
    }
   ],
   "source": [
    "# The top 10 Headings with the highest number of views and the person that posted them\n",
    "poster_view = politics_1[['Heading', 'Poster','Viewed']].sort_values(by= 'Viewed', ascending=False)\n",
    "poster_view[:10]"
   ]
  },
  {
   "cell_type": "code",
   "execution_count": 43,
   "metadata": {},
   "outputs": [
    {
     "data": {
      "text/plain": [
       "Text(0.5, 1.0, 'The Topic with the Highest view ')"
      ]
     },
     "execution_count": 43,
     "metadata": {},
     "output_type": "execute_result"
    },
    {
     "data": {
      "image/png": "[encoded data removed]",
      "text/plain": [
       "<Figure size 576x576 with 1 Axes>"
      ]
     },
     "metadata": {
      "needs_background": "light"
     },
     "output_type": "display_data"
    },
    {
     "data": {
      "image/png": "[encoded data removed]",
      "text/plain": [
       "<Figure size 576x576 with 1 Axes>"
      ]
     },
     "metadata": {
      "needs_background": "light"
     },
     "output_type": "display_data"
    }
   ],
   "source": [
    "view2a = poster_view[:10].plot(x ='Poster', y='Viewed', kind='bar', figsize = (8, 8))\n",
    "plt.title('The Poster that created Topic with highest view!')\n",
    "\n",
    "view2b = poster_view[:10].plot(x ='Heading', y='Viewed', kind='bar', figsize = (8, 8), color='black')\n",
    "plt.title('The Topic with the Highest view ')"
   ]
  },
  {
   "cell_type": "markdown",
   "metadata": {},
   "source": [
    "### 3 What is the topic and original Poster of the topic with the highest number of comments"
   ]
  },
  {
   "cell_type": "code",
   "execution_count": 40,
   "metadata": {},
   "outputs": [
    {
     "data": {
      "text/html": [
       "<div>\n",
       "<style scoped>\n",
       "    .dataframe tbody tr th:only-of-type {\n",
       "        vertical-align: middle;\n",
       "    }\n",
       "\n",
       "    .dataframe tbody tr th {\n",
       "        vertical-align: top;\n",
       "    }\n",
       "\n",
       "    .dataframe thead th {\n",
       "        text-align: right;\n",
       "    }\n",
       "</style>\n",
       "<table border=\"1\" class=\"dataframe\">\n",
       "  <thead>\n",
       "    <tr style=\"text-align: right;\">\n",
       "      <th></th>\n",
       "      <th>Heading</th>\n",
       "      <th>Poster</th>\n",
       "      <th>Updated</th>\n",
       "    </tr>\n",
       "  </thead>\n",
       "  <tbody>\n",
       "    <tr>\n",
       "      <td>9</td>\n",
       "      <td>Nigerian Politics: How To Publish A Book On Nigerian Politics</td>\n",
       "      <td>EditorsPalace</td>\n",
       "      <td>25002</td>\n",
       "    </tr>\n",
       "    <tr>\n",
       "      <td>110</td>\n",
       "      <td>Few Pics From Imo State</td>\n",
       "      <td>PROUDIGBO</td>\n",
       "      <td>24514</td>\n",
       "    </tr>\n",
       "    <tr>\n",
       "      <td>1207</td>\n",
       "      <td>.</td>\n",
       "      <td>spyder880</td>\n",
       "      <td>23398</td>\n",
       "    </tr>\n",
       "    <tr>\n",
       "      <td>48</td>\n",
       "      <td>Update on developments in Anambra state-photos</td>\n",
       "      <td>Anambra1stSon</td>\n",
       "      <td>22131</td>\n",
       "    </tr>\n",
       "    <tr>\n",
       "      <td>5302</td>\n",
       "      <td>Enugu, The Pride Of The East.</td>\n",
       "      <td>spyder880</td>\n",
       "      <td>20445</td>\n",
       "    </tr>\n",
       "    <tr>\n",
       "      <td>30</td>\n",
       "      <td>Political Branding: How To Promote Your Political Ambition Or Career</td>\n",
       "      <td>EditorsPalace</td>\n",
       "      <td>20069</td>\n",
       "    </tr>\n",
       "    <tr>\n",
       "      <td>7087</td>\n",
       "      <td>Anambra light of the nation, eastern economy power house.</td>\n",
       "      <td>FKO81</td>\n",
       "      <td>16730</td>\n",
       "    </tr>\n",
       "    <tr>\n",
       "      <td>7698</td>\n",
       "      <td>Yoruba Commonwealth and Politics</td>\n",
       "      <td>NaN</td>\n",
       "      <td>12269</td>\n",
       "    </tr>\n",
       "    <tr>\n",
       "      <td>561</td>\n",
       "      <td>Yorubas Are The Most Industrious,Richest &amp; Educated Tribe in Nigeria &amp; Africa</td>\n",
       "      <td>kn23h</td>\n",
       "      <td>10047</td>\n",
       "    </tr>\n",
       "    <tr>\n",
       "      <td>12364</td>\n",
       "      <td>Igbos Most Industrious, Innovative and Richest Tribe In Africa see proof</td>\n",
       "      <td>FKO81</td>\n",
       "      <td>5008</td>\n",
       "    </tr>\n",
       "  </tbody>\n",
       "</table>\n",
       "</div>"
      ],
      "text/plain": [
       "                                                                             Heading  \\\n",
       "9      Nigerian Politics: How To Publish A Book On Nigerian Politics                   \n",
       "110    Few Pics From Imo State                                                         \n",
       "1207   .                                                                               \n",
       "48     Update on developments in Anambra state-photos                                  \n",
       "5302   Enugu, The Pride Of The East.                                                   \n",
       "30     Political Branding: How To Promote Your Political Ambition Or Career            \n",
       "7087   Anambra light of the nation, eastern economy power house.                       \n",
       "7698   Yoruba Commonwealth and Politics                                                \n",
       "561    Yorubas Are The Most Industrious,Richest & Educated Tribe in Nigeria & Africa   \n",
       "12364  Igbos Most Industrious, Innovative and Richest Tribe In Africa see proof        \n",
       "\n",
       "              Poster  Updated  \n",
       "9      EditorsPalace  25002    \n",
       "110    PROUDIGBO      24514    \n",
       "1207   spyder880      23398    \n",
       "48     Anambra1stSon  22131    \n",
       "5302   spyder880      20445    \n",
       "30     EditorsPalace  20069    \n",
       "7087   FKO81          16730    \n",
       "7698   NaN            12269    \n",
       "561    kn23h          10047    \n",
       "12364  FKO81          5008     "
      ]
     },
     "execution_count": 40,
     "metadata": {},
     "output_type": "execute_result"
    }
   ],
   "source": [
    "# The top 10 Headings with the highest number of comments and the person that posted them\n",
    "poster_comment = politics_1[['Heading', 'Poster','Updated']].sort_values(by= 'Updated', ascending=False)\n",
    "poster_comment[:10]"
   ]
  },
  {
   "cell_type": "code",
   "execution_count": 41,
   "metadata": {},
   "outputs": [
    {
     "data": {
      "image/png": "[encoded data removed]",
      "text/plain": [
       "<Figure size 576x576 with 1 Axes>"
      ]
     },
     "metadata": {
      "needs_background": "light"
     },
     "output_type": "display_data"
    },
    {
     "data": {
      "image/png": "[encoded data removed]",
      "text/plain": [
       "<Figure size 576x576 with 1 Axes>"
      ]
     },
     "metadata": {
      "needs_background": "light"
     },
     "output_type": "display_data"
    }
   ],
   "source": [
    "view3 = poster_comment[:10].plot(x ='Poster', y='Updated', kind='bar', figsize = (8, 8), color='red')\n",
    "view3 = poster_comment[:10].plot(x ='Heading', y='Updated', kind='bar', figsize = (8, 8), color='green')"
   ]
  },
  {
   "cell_type": "markdown",
   "metadata": {},
   "source": [
    "### 4 Which post was last updated and when in the 300 pages scraped"
   ]
  },
  {
   "cell_type": "code",
   "execution_count": null,
   "metadata": {},
   "outputs": [],
   "source": []
  },
  {
   "cell_type": "code",
   "execution_count": 52,
   "metadata": {},
   "outputs": [
    {
     "data": {
      "text/html": [
       "<div>\n",
       "<style scoped>\n",
       "    .dataframe tbody tr th:only-of-type {\n",
       "        vertical-align: middle;\n",
       "    }\n",
       "\n",
       "    .dataframe tbody tr th {\n",
       "        vertical-align: top;\n",
       "    }\n",
       "\n",
       "    .dataframe thead th {\n",
       "        text-align: right;\n",
       "    }\n",
       "</style>\n",
       "<table border=\"1\" class=\"dataframe\">\n",
       "  <thead>\n",
       "    <tr style=\"text-align: right;\">\n",
       "      <th></th>\n",
       "      <th>Heading</th>\n",
       "      <th>Date_Last_Updated</th>\n",
       "      <th>Time</th>\n",
       "    </tr>\n",
       "  </thead>\n",
       "  <tbody>\n",
       "    <tr>\n",
       "      <td>16029</td>\n",
       "      <td>Group Back Tinubu For President In 2023</td>\n",
       "      <td>2021-03-09</td>\n",
       "      <td>10:07pm</td>\n",
       "    </tr>\n",
       "    <tr>\n",
       "      <td>16028</td>\n",
       "      <td>Insult No One, Pray For Them — Uche Ogah Urges Supporters</td>\n",
       "      <td>2021-03-09</td>\n",
       "      <td>10:27pm</td>\n",
       "    </tr>\n",
       "    <tr>\n",
       "      <td>16027</td>\n",
       "      <td>Backlash As Bawa Addresses Staff Under The Sun</td>\n",
       "      <td>2021-03-09</td>\n",
       "      <td>10:29pm</td>\n",
       "    </tr>\n",
       "    <tr>\n",
       "      <td>16026</td>\n",
       "      <td>1957 Summary Of Nigeria's Problems (videos)</td>\n",
       "      <td>2021-03-09</td>\n",
       "      <td>10:31pm</td>\n",
       "    </tr>\n",
       "    <tr>\n",
       "      <td>16025</td>\n",
       "      <td>Historic Footage Of Biafran Troops Celebrating After Recapturing Owerri</td>\n",
       "      <td>2021-03-09</td>\n",
       "      <td>10:33pm</td>\n",
       "    </tr>\n",
       "    <tr>\n",
       "      <td>16024</td>\n",
       "      <td>Ghana, Togo, Benin Rep, Others to Enjoy Free Oil Under Biafran Government-IPOB</td>\n",
       "      <td>2021-03-09</td>\n",
       "      <td>10:34pm</td>\n",
       "    </tr>\n",
       "    <tr>\n",
       "      <td>16023</td>\n",
       "      <td>An Igboman Was Once An Oba In Benin Kingdom(how True Is That)</td>\n",
       "      <td>2021-03-09</td>\n",
       "      <td>10:35pm</td>\n",
       "    </tr>\n",
       "    <tr>\n",
       "      <td>16022</td>\n",
       "      <td>What About Me?</td>\n",
       "      <td>2021-03-09</td>\n",
       "      <td>11:16pm</td>\n",
       "    </tr>\n",
       "    <tr>\n",
       "      <td>16021</td>\n",
       "      <td>As I Sat And Pondered...(a Poem)</td>\n",
       "      <td>2021-03-09</td>\n",
       "      <td>11:21pm</td>\n",
       "    </tr>\n",
       "    <tr>\n",
       "      <td>16020</td>\n",
       "      <td>*social Media Trends For Tuesday 9th March 2021</td>\n",
       "      <td>2021-03-09</td>\n",
       "      <td>11:39pm</td>\n",
       "    </tr>\n",
       "  </tbody>\n",
       "</table>\n",
       "</div>"
      ],
      "text/plain": [
       "                                                                              Heading  \\\n",
       "16029  Group Back Tinubu For President In 2023                                          \n",
       "16028  Insult No One, Pray For Them — Uche Ogah Urges Supporters                        \n",
       "16027  Backlash As Bawa Addresses Staff Under The Sun                                   \n",
       "16026  1957 Summary Of Nigeria's Problems (videos)                                      \n",
       "16025  Historic Footage Of Biafran Troops Celebrating After Recapturing Owerri          \n",
       "16024  Ghana, Togo, Benin Rep, Others to Enjoy Free Oil Under Biafran Government-IPOB   \n",
       "16023  An Igboman Was Once An Oba In Benin Kingdom(how True Is That)                    \n",
       "16022  What About Me?                                                                   \n",
       "16021  As I Sat And Pondered...(a Poem)                                                 \n",
       "16020  *social Media Trends For Tuesday 9th March 2021                                  \n",
       "\n",
       "      Date_Last_Updated     Time  \n",
       "16029 2021-03-09         10:07pm  \n",
       "16028 2021-03-09         10:27pm  \n",
       "16027 2021-03-09         10:29pm  \n",
       "16026 2021-03-09         10:31pm  \n",
       "16025 2021-03-09         10:33pm  \n",
       "16024 2021-03-09         10:34pm  \n",
       "16023 2021-03-09         10:35pm  \n",
       "16022 2021-03-09         11:16pm  \n",
       "16021 2021-03-09         11:21pm  \n",
       "16020 2021-03-09         11:39pm  "
      ]
     },
     "execution_count": 52,
     "metadata": {},
     "output_type": "execute_result"
    }
   ],
   "source": [
    "# Top 10 post to be last updated according to our records\n",
    "old_post = politics_1[['Heading', 'Date_Last_Updated', 'Time']]\n",
    "old_post1 = old_post.sort_values(['Date_Last_Updated', 'Time'], ascending=[True, True])\n",
    "old_post1[:10]"
   ]
  },
  {
   "cell_type": "code",
   "execution_count": null,
   "metadata": {},
   "outputs": [],
   "source": []
  },
  {
   "cell_type": "markdown",
   "metadata": {},
   "source": [
    "### 5 Who are the most active users in the politics section of Nairaland and how many topics did they create"
   ]
  },
  {
   "cell_type": "code",
   "execution_count": 56,
   "metadata": {},
   "outputs": [
    {
     "name": "stdout",
     "output_type": "stream",
     "text": [
      "[(nan, 163), ('Islie', 132), ('dre11', 125), ('Elbinawi', 120), ('adenigga', 119), ('TheRareGem1', 111), ('sarrki', 106), ('shalom62', 102), ('Health16', 100), ('iwaeda', 93), ('Gjrich', 92), ('Ctorch', 90), ('nairalandankrah', 89), ('valentineuwakwe', 88), ('HonNL', 87)]\n"
     ]
    }
   ],
   "source": [
    "# Top 15 users and the number of thread they have created\n",
    "from collections import Counter\n",
    "active_users = politics_1['Poster']\n",
    "active_users = Counter(active_users)\n",
    "users  = active_users.most_common(15)\n",
    "print(users)"
   ]
  },
  {
   "cell_type": "code",
   "execution_count": 57,
   "metadata": {},
   "outputs": [
    {
     "data": {
      "text/html": [
       "<div>\n",
       "<style scoped>\n",
       "    .dataframe tbody tr th:only-of-type {\n",
       "        vertical-align: middle;\n",
       "    }\n",
       "\n",
       "    .dataframe tbody tr th {\n",
       "        vertical-align: top;\n",
       "    }\n",
       "\n",
       "    .dataframe thead th {\n",
       "        text-align: right;\n",
       "    }\n",
       "</style>\n",
       "<table border=\"1\" class=\"dataframe\">\n",
       "  <thead>\n",
       "    <tr style=\"text-align: right;\">\n",
       "      <th></th>\n",
       "      <th>Poster</th>\n",
       "      <th>Thread_created</th>\n",
       "    </tr>\n",
       "  </thead>\n",
       "  <tbody>\n",
       "    <tr>\n",
       "      <td>0</td>\n",
       "      <td>NaN</td>\n",
       "      <td>163</td>\n",
       "    </tr>\n",
       "    <tr>\n",
       "      <td>1</td>\n",
       "      <td>Islie</td>\n",
       "      <td>132</td>\n",
       "    </tr>\n",
       "    <tr>\n",
       "      <td>2</td>\n",
       "      <td>dre11</td>\n",
       "      <td>125</td>\n",
       "    </tr>\n",
       "    <tr>\n",
       "      <td>3</td>\n",
       "      <td>Elbinawi</td>\n",
       "      <td>120</td>\n",
       "    </tr>\n",
       "    <tr>\n",
       "      <td>4</td>\n",
       "      <td>adenigga</td>\n",
       "      <td>119</td>\n",
       "    </tr>\n",
       "    <tr>\n",
       "      <td>5</td>\n",
       "      <td>TheRareGem1</td>\n",
       "      <td>111</td>\n",
       "    </tr>\n",
       "    <tr>\n",
       "      <td>6</td>\n",
       "      <td>sarrki</td>\n",
       "      <td>106</td>\n",
       "    </tr>\n",
       "    <tr>\n",
       "      <td>7</td>\n",
       "      <td>shalom62</td>\n",
       "      <td>102</td>\n",
       "    </tr>\n",
       "    <tr>\n",
       "      <td>8</td>\n",
       "      <td>Health16</td>\n",
       "      <td>100</td>\n",
       "    </tr>\n",
       "    <tr>\n",
       "      <td>9</td>\n",
       "      <td>iwaeda</td>\n",
       "      <td>93</td>\n",
       "    </tr>\n",
       "    <tr>\n",
       "      <td>10</td>\n",
       "      <td>Gjrich</td>\n",
       "      <td>92</td>\n",
       "    </tr>\n",
       "    <tr>\n",
       "      <td>11</td>\n",
       "      <td>Ctorch</td>\n",
       "      <td>90</td>\n",
       "    </tr>\n",
       "    <tr>\n",
       "      <td>12</td>\n",
       "      <td>nairalandankrah</td>\n",
       "      <td>89</td>\n",
       "    </tr>\n",
       "    <tr>\n",
       "      <td>13</td>\n",
       "      <td>valentineuwakwe</td>\n",
       "      <td>88</td>\n",
       "    </tr>\n",
       "    <tr>\n",
       "      <td>14</td>\n",
       "      <td>HonNL</td>\n",
       "      <td>87</td>\n",
       "    </tr>\n",
       "  </tbody>\n",
       "</table>\n",
       "</div>"
      ],
      "text/plain": [
       "             Poster  Thread_created\n",
       "0   NaN              163           \n",
       "1   Islie            132           \n",
       "2   dre11            125           \n",
       "3   Elbinawi         120           \n",
       "4   adenigga         119           \n",
       "5   TheRareGem1      111           \n",
       "6   sarrki           106           \n",
       "7   shalom62         102           \n",
       "8   Health16         100           \n",
       "9   iwaeda           93            \n",
       "10  Gjrich           92            \n",
       "11  Ctorch           90            \n",
       "12  nairalandankrah  89            \n",
       "13  valentineuwakwe  88            \n",
       "14  HonNL            87            "
      ]
     },
     "execution_count": 57,
     "metadata": {},
     "output_type": "execute_result"
    }
   ],
   "source": [
    "# Converting list of tuple to dataframe as to plot a graph\n",
    "user_p = pd.DataFrame(users, columns=[\"Poster\", \"Thread_created\"])\n",
    "user_p"
   ]
  },
  {
   "cell_type": "code",
   "execution_count": 68,
   "metadata": {},
   "outputs": [],
   "source": [
    "# replace NaN value with others\n",
    "user_p['Poster'] = user_p['Poster'].fillna('others')"
   ]
  },
  {
   "cell_type": "code",
   "execution_count": 69,
   "metadata": {},
   "outputs": [
    {
     "data": {
      "text/html": [
       "<div>\n",
       "<style scoped>\n",
       "    .dataframe tbody tr th:only-of-type {\n",
       "        vertical-align: middle;\n",
       "    }\n",
       "\n",
       "    .dataframe tbody tr th {\n",
       "        vertical-align: top;\n",
       "    }\n",
       "\n",
       "    .dataframe thead th {\n",
       "        text-align: right;\n",
       "    }\n",
       "</style>\n",
       "<table border=\"1\" class=\"dataframe\">\n",
       "  <thead>\n",
       "    <tr style=\"text-align: right;\">\n",
       "      <th></th>\n",
       "      <th>Poster</th>\n",
       "      <th>Thread_created</th>\n",
       "    </tr>\n",
       "  </thead>\n",
       "  <tbody>\n",
       "    <tr>\n",
       "      <td>0</td>\n",
       "      <td>others</td>\n",
       "      <td>163</td>\n",
       "    </tr>\n",
       "    <tr>\n",
       "      <td>1</td>\n",
       "      <td>Islie</td>\n",
       "      <td>132</td>\n",
       "    </tr>\n",
       "    <tr>\n",
       "      <td>2</td>\n",
       "      <td>dre11</td>\n",
       "      <td>125</td>\n",
       "    </tr>\n",
       "    <tr>\n",
       "      <td>3</td>\n",
       "      <td>Elbinawi</td>\n",
       "      <td>120</td>\n",
       "    </tr>\n",
       "    <tr>\n",
       "      <td>4</td>\n",
       "      <td>adenigga</td>\n",
       "      <td>119</td>\n",
       "    </tr>\n",
       "    <tr>\n",
       "      <td>5</td>\n",
       "      <td>TheRareGem1</td>\n",
       "      <td>111</td>\n",
       "    </tr>\n",
       "    <tr>\n",
       "      <td>6</td>\n",
       "      <td>sarrki</td>\n",
       "      <td>106</td>\n",
       "    </tr>\n",
       "    <tr>\n",
       "      <td>7</td>\n",
       "      <td>shalom62</td>\n",
       "      <td>102</td>\n",
       "    </tr>\n",
       "    <tr>\n",
       "      <td>8</td>\n",
       "      <td>Health16</td>\n",
       "      <td>100</td>\n",
       "    </tr>\n",
       "    <tr>\n",
       "      <td>9</td>\n",
       "      <td>iwaeda</td>\n",
       "      <td>93</td>\n",
       "    </tr>\n",
       "    <tr>\n",
       "      <td>10</td>\n",
       "      <td>Gjrich</td>\n",
       "      <td>92</td>\n",
       "    </tr>\n",
       "    <tr>\n",
       "      <td>11</td>\n",
       "      <td>Ctorch</td>\n",
       "      <td>90</td>\n",
       "    </tr>\n",
       "    <tr>\n",
       "      <td>12</td>\n",
       "      <td>nairalandankrah</td>\n",
       "      <td>89</td>\n",
       "    </tr>\n",
       "    <tr>\n",
       "      <td>13</td>\n",
       "      <td>valentineuwakwe</td>\n",
       "      <td>88</td>\n",
       "    </tr>\n",
       "    <tr>\n",
       "      <td>14</td>\n",
       "      <td>HonNL</td>\n",
       "      <td>87</td>\n",
       "    </tr>\n",
       "  </tbody>\n",
       "</table>\n",
       "</div>"
      ],
      "text/plain": [
       "             Poster  Thread_created\n",
       "0   others           163           \n",
       "1   Islie            132           \n",
       "2   dre11            125           \n",
       "3   Elbinawi         120           \n",
       "4   adenigga         119           \n",
       "5   TheRareGem1      111           \n",
       "6   sarrki           106           \n",
       "7   shalom62         102           \n",
       "8   Health16         100           \n",
       "9   iwaeda           93            \n",
       "10  Gjrich           92            \n",
       "11  Ctorch           90            \n",
       "12  nairalandankrah  89            \n",
       "13  valentineuwakwe  88            \n",
       "14  HonNL            87            "
      ]
     },
     "execution_count": 69,
     "metadata": {},
     "output_type": "execute_result"
    }
   ],
   "source": [
    "user_p"
   ]
  },
  {
   "cell_type": "code",
   "execution_count": 79,
   "metadata": {},
   "outputs": [
    {
     "data": {
      "text/html": [
       "<div>\n",
       "<style scoped>\n",
       "    .dataframe tbody tr th:only-of-type {\n",
       "        vertical-align: middle;\n",
       "    }\n",
       "\n",
       "    .dataframe tbody tr th {\n",
       "        vertical-align: top;\n",
       "    }\n",
       "\n",
       "    .dataframe thead th {\n",
       "        text-align: right;\n",
       "    }\n",
       "</style>\n",
       "<table border=\"1\" class=\"dataframe\">\n",
       "  <thead>\n",
       "    <tr style=\"text-align: right;\">\n",
       "      <th></th>\n",
       "      <th>Thread_created</th>\n",
       "    </tr>\n",
       "    <tr>\n",
       "      <th>Poster</th>\n",
       "      <th></th>\n",
       "    </tr>\n",
       "  </thead>\n",
       "  <tbody>\n",
       "    <tr>\n",
       "      <td>others</td>\n",
       "      <td>163</td>\n",
       "    </tr>\n",
       "    <tr>\n",
       "      <td>Islie</td>\n",
       "      <td>132</td>\n",
       "    </tr>\n",
       "    <tr>\n",
       "      <td>dre11</td>\n",
       "      <td>125</td>\n",
       "    </tr>\n",
       "    <tr>\n",
       "      <td>Elbinawi</td>\n",
       "      <td>120</td>\n",
       "    </tr>\n",
       "    <tr>\n",
       "      <td>adenigga</td>\n",
       "      <td>119</td>\n",
       "    </tr>\n",
       "    <tr>\n",
       "      <td>TheRareGem1</td>\n",
       "      <td>111</td>\n",
       "    </tr>\n",
       "    <tr>\n",
       "      <td>sarrki</td>\n",
       "      <td>106</td>\n",
       "    </tr>\n",
       "    <tr>\n",
       "      <td>shalom62</td>\n",
       "      <td>102</td>\n",
       "    </tr>\n",
       "    <tr>\n",
       "      <td>Health16</td>\n",
       "      <td>100</td>\n",
       "    </tr>\n",
       "    <tr>\n",
       "      <td>iwaeda</td>\n",
       "      <td>93</td>\n",
       "    </tr>\n",
       "    <tr>\n",
       "      <td>Gjrich</td>\n",
       "      <td>92</td>\n",
       "    </tr>\n",
       "    <tr>\n",
       "      <td>Ctorch</td>\n",
       "      <td>90</td>\n",
       "    </tr>\n",
       "    <tr>\n",
       "      <td>nairalandankrah</td>\n",
       "      <td>89</td>\n",
       "    </tr>\n",
       "    <tr>\n",
       "      <td>valentineuwakwe</td>\n",
       "      <td>88</td>\n",
       "    </tr>\n",
       "    <tr>\n",
       "      <td>HonNL</td>\n",
       "      <td>87</td>\n",
       "    </tr>\n",
       "  </tbody>\n",
       "</table>\n",
       "</div>"
      ],
      "text/plain": [
       "                 Thread_created\n",
       "Poster                         \n",
       "others           163           \n",
       "Islie            132           \n",
       "dre11            125           \n",
       "Elbinawi         120           \n",
       "adenigga         119           \n",
       "TheRareGem1      111           \n",
       "sarrki           106           \n",
       "shalom62         102           \n",
       "Health16         100           \n",
       "iwaeda           93            \n",
       "Gjrich           92            \n",
       "Ctorch           90            \n",
       "nairalandankrah  89            \n",
       "valentineuwakwe  88            \n",
       "HonNL            87            "
      ]
     },
     "execution_count": 79,
     "metadata": {},
     "output_type": "execute_result"
    }
   ],
   "source": [
    "# Using the poster column as our new index\n",
    "user_pp = user_p.set_index('Poster')\n",
    "user_pp"
   ]
  },
  {
   "cell_type": "code",
   "execution_count": 81,
   "metadata": {},
   "outputs": [
    {
     "data": {
      "image/png": "[encoded data removed]",
      "text/plain": [
       "<Figure size 576x576 with 1 Axes>"
      ]
     },
     "metadata": {},
     "output_type": "display_data"
    }
   ],
   "source": [
    "# The pie chart of the top 8 contributors\n",
    "myexplode = [0.1, 0.1, 0, 0,0,0,0,0]\n",
    "user_pp[:8].plot(kind=\"pie\", explode= myexplode, autopct='%1.2f%%', y = 'Thread_created', figsize = (8, 8))\n",
    "plt.title('The Percentage representation of the 8 most active users ')\n",
    "plt.show()"
   ]
  },
  {
   "cell_type": "markdown",
   "metadata": {},
   "source": [
    "### 6 Which month had the highest number of Headings"
   ]
  },
  {
   "cell_type": "code",
   "execution_count": 85,
   "metadata": {},
   "outputs": [
    {
     "name": "stdout",
     "output_type": "stream",
     "text": [
      "Counter({5: 6909, 4: 5480, 3: 3583, 6: 129})\n"
     ]
    }
   ],
   "source": [
    "# Month with highest number of Headings\n",
    "from collections import Counter\n",
    "mon = politics_1['Month']\n",
    "mon = Counter(mon)\n",
    "print(mon)"
   ]
  },
  {
   "cell_type": "code",
   "execution_count": 89,
   "metadata": {},
   "outputs": [
    {
     "data": {
      "text/html": [
       "<div>\n",
       "<style scoped>\n",
       "    .dataframe tbody tr th:only-of-type {\n",
       "        vertical-align: middle;\n",
       "    }\n",
       "\n",
       "    .dataframe tbody tr th {\n",
       "        vertical-align: top;\n",
       "    }\n",
       "\n",
       "    .dataframe thead th {\n",
       "        text-align: right;\n",
       "    }\n",
       "</style>\n",
       "<table border=\"1\" class=\"dataframe\">\n",
       "  <thead>\n",
       "    <tr style=\"text-align: right;\">\n",
       "      <th></th>\n",
       "      <th>Month</th>\n",
       "      <th>Total_number</th>\n",
       "    </tr>\n",
       "  </thead>\n",
       "  <tbody>\n",
       "    <tr>\n",
       "      <td>0</td>\n",
       "      <td>5</td>\n",
       "      <td>6909</td>\n",
       "    </tr>\n",
       "    <tr>\n",
       "      <td>1</td>\n",
       "      <td>6</td>\n",
       "      <td>129</td>\n",
       "    </tr>\n",
       "    <tr>\n",
       "      <td>2</td>\n",
       "      <td>4</td>\n",
       "      <td>5480</td>\n",
       "    </tr>\n",
       "    <tr>\n",
       "      <td>3</td>\n",
       "      <td>3</td>\n",
       "      <td>3583</td>\n",
       "    </tr>\n",
       "  </tbody>\n",
       "</table>\n",
       "</div>"
      ],
      "text/plain": [
       "   Month  Total_number\n",
       "0  5      6909        \n",
       "1  6      129         \n",
       "2  4      5480        \n",
       "3  3      3583        "
      ]
     },
     "execution_count": 89,
     "metadata": {},
     "output_type": "execute_result"
    }
   ],
   "source": [
    "# Converting Dictionary to dataframe as to plot a graph\n",
    "mon1 = pd.DataFrame(list(mon.items()), columns=[\"Month\", \"Total_number\"])\n",
    "mon1"
   ]
  },
  {
   "cell_type": "code",
   "execution_count": 91,
   "metadata": {},
   "outputs": [
    {
     "data": {
      "text/html": [
       "<div>\n",
       "<style scoped>\n",
       "    .dataframe tbody tr th:only-of-type {\n",
       "        vertical-align: middle;\n",
       "    }\n",
       "\n",
       "    .dataframe tbody tr th {\n",
       "        vertical-align: top;\n",
       "    }\n",
       "\n",
       "    .dataframe thead th {\n",
       "        text-align: right;\n",
       "    }\n",
       "</style>\n",
       "<table border=\"1\" class=\"dataframe\">\n",
       "  <thead>\n",
       "    <tr style=\"text-align: right;\">\n",
       "      <th></th>\n",
       "      <th>Month</th>\n",
       "      <th>Total_number</th>\n",
       "      <th>Month_name</th>\n",
       "    </tr>\n",
       "  </thead>\n",
       "  <tbody>\n",
       "    <tr>\n",
       "      <td>0</td>\n",
       "      <td>5</td>\n",
       "      <td>6909</td>\n",
       "      <td>May</td>\n",
       "    </tr>\n",
       "    <tr>\n",
       "      <td>1</td>\n",
       "      <td>6</td>\n",
       "      <td>129</td>\n",
       "      <td>June</td>\n",
       "    </tr>\n",
       "    <tr>\n",
       "      <td>2</td>\n",
       "      <td>4</td>\n",
       "      <td>5480</td>\n",
       "      <td>April</td>\n",
       "    </tr>\n",
       "    <tr>\n",
       "      <td>3</td>\n",
       "      <td>3</td>\n",
       "      <td>3583</td>\n",
       "      <td>March</td>\n",
       "    </tr>\n",
       "  </tbody>\n",
       "</table>\n",
       "</div>"
      ],
      "text/plain": [
       "   Month  Total_number Month_name\n",
       "0  5      6909          May      \n",
       "1  6      129           June     \n",
       "2  4      5480          April    \n",
       "3  3      3583          March    "
      ]
     },
     "execution_count": 91,
     "metadata": {},
     "output_type": "execute_result"
    }
   ],
   "source": [
    "# Using the assign method to add a new column to our dataset\n",
    "mon2 = mon1.assign(Month_name = ['May', 'June', 'April', 'March'])\n",
    "mon2"
   ]
  },
  {
   "cell_type": "code",
   "execution_count": 94,
   "metadata": {},
   "outputs": [],
   "source": [
    "mon3 = mon2.set_index('Month_name')"
   ]
  },
  {
   "cell_type": "code",
   "execution_count": 95,
   "metadata": {},
   "outputs": [
    {
     "data": {
      "image/png": "[encoded data removed]",
      "text/plain": [
       "<Figure size 576x576 with 1 Axes>"
      ]
     },
     "metadata": {},
     "output_type": "display_data"
    }
   ],
   "source": [
    "# The pie chart of Topic Distribution by month\n",
    "myexplode = [0.1, 0.1, 0, 0]\n",
    "mon3.plot(kind=\"pie\", explode= myexplode, autopct='%1.2f%%', y = 'Total_number', figsize = (8, 8))\n",
    "plt.title('The Topic Distribution of chart by month ')\n",
    "plt.show()"
   ]
  },
  {
   "cell_type": "code",
   "execution_count": 100,
   "metadata": {},
   "outputs": [
    {
     "data": {
      "text/plain": [
       "<matplotlib.axes._subplots.AxesSubplot at 0x22e8e1a7948>"
      ]
     },
     "execution_count": 100,
     "metadata": {},
     "output_type": "execute_result"
    },
    {
     "data": {
      "image/png": "[encoded data removed]",
      "text/plain": [
       "<Figure size 576x576 with 1 Axes>"
      ]
     },
     "metadata": {
      "needs_background": "light"
     },
     "output_type": "display_data"
    }
   ],
   "source": [
    "mon2.plot(x ='Month_name', y='Total_number', kind='bar', figsize = (8, 8), color='black')"
   ]
  },
  {
   "cell_type": "code",
   "execution_count": null,
   "metadata": {},
   "outputs": [],
   "source": []
  },
  {
   "cell_type": "code",
   "execution_count": null,
   "metadata": {},
   "outputs": [],
   "source": []
  },
  {
   "cell_type": "code",
   "execution_count": null,
   "metadata": {},
   "outputs": [],
   "source": []
  },
  {
   "cell_type": "code",
   "execution_count": null,
   "metadata": {},
   "outputs": [],
   "source": []
  },
  {
   "cell_type": "markdown",
   "metadata": {},
   "source": [
    "## Additional Information <br>\n",
    "#### 1. Some accounts seem disabled or suspended and this contributed to having Topics with no name as posters"
   ]
  },
  {
   "cell_type": "code",
   "execution_count": null,
   "metadata": {},
   "outputs": [],
   "source": []
  },
  {
   "cell_type": "markdown",
   "metadata": {},
   "source": [
    "# THE END"
   ]
  },
  {
   "cell_type": "code",
   "execution_count": null,
   "metadata": {},
   "outputs": [],
   "source": []
  }
 ],
 "metadata": {
  "kernelspec": {
   "display_name": "Python 3",
   "language": "python",
   "name": "python3"
  },
  "language_info": {
   "codemirror_mode": {
    "name": "ipython",
    "version": 3
   },
   "file_extension": ".py",
   "mimetype": "text/x-python",
   "name": "python",
   "nbconvert_exporter": "python",
   "pygments_lexer": "ipython3",
   "version": "3.7.4"
  }
 },
 "nbformat": 4,
 "nbformat_minor": 2
}
